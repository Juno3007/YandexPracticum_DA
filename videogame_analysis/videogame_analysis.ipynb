{
 "cells": [
  {
   "cell_type": "markdown",
   "metadata": {},
   "source": [
    "# Описание проекта"
   ]
  },
  {
   "cell_type": "markdown",
   "metadata": {},
   "source": [
    "Вы работаете в интернет-магазине «Стримчик», который продаёт по всему миру компьютерные игры. Из открытых источников доступны исторические данные о продажах игр, оценки пользователей и экспертов, жанры и платформы (например, Xbox или PlayStation). Вам нужно выявить определяющие успешность игры закономерности. Это позволит сделать ставку на потенциально популярный продукт и спланировать рекламные кампании.\n",
    "<br>\n",
    "Перед вами данные до 2016 года. Представим, что сейчас декабрь 2016 г., и вы планируете кампанию на 2017-й. Нужно отработать принцип работы с данными. Неважно, прогнозируете ли вы продажи на 2017 год по данным 2016-го или же 2027-й — по данным 2026 года.\n",
    "<br>\n",
    "В наборе данных попадается аббревиатура ESRB (Entertainment Software Rating Board) — это ассоциация, определяющая возрастной рейтинг компьютерных игр. ESRB оценивает игровой контент и присваивает ему подходящую возрастную категорию, например, «Для взрослых», «Для детей младшего возраста» или «Для подростков»."
   ]
  },
  {
   "cell_type": "markdown",
   "metadata": {},
   "source": [
    "**План работы**\n",
    "<br>\n",
    "Изучем данные\n",
    "<br>\n",
    "Проведем их предобработку\n",
    "<br>\n",
    "Проведем анализ и выбирем актуальные данные\n",
    "<br>\n",
    "Составим портрет пользователя по регионам\n",
    "<br>\n",
    "Проверем гипотезы\n",
    "<br>\n",
    "Напишем вывод"
   ]
  },
  {
   "cell_type": "markdown",
   "metadata": {},
   "source": [
    "# Шаг 1. Откройте файл с данными и изучите общую информацию"
   ]
  },
  {
   "cell_type": "code",
   "execution_count": 1,
   "metadata": {},
   "outputs": [],
   "source": [
    "import pandas as pd\n",
    "import matplotlib.pyplot as plt\n",
    "import seaborn as sns\n",
    "import numpy as np\n",
    "from scipy import stats as st"
   ]
  },
  {
   "cell_type": "code",
   "execution_count": 2,
   "metadata": {},
   "outputs": [],
   "source": [
    "games = pd.read_csv('games.csv')"
   ]
  },
  {
   "cell_type": "code",
   "execution_count": 3,
   "metadata": {
    "scrolled": true
   },
   "outputs": [
    {
     "data": {
      "text/html": [
       "<div>\n",
       "<style scoped>\n",
       "    .dataframe tbody tr th:only-of-type {\n",
       "        vertical-align: middle;\n",
       "    }\n",
       "\n",
       "    .dataframe tbody tr th {\n",
       "        vertical-align: top;\n",
       "    }\n",
       "\n",
       "    .dataframe thead th {\n",
       "        text-align: right;\n",
       "    }\n",
       "</style>\n",
       "<table border=\"1\" class=\"dataframe\">\n",
       "  <thead>\n",
       "    <tr style=\"text-align: right;\">\n",
       "      <th></th>\n",
       "      <th>Name</th>\n",
       "      <th>Platform</th>\n",
       "      <th>Year_of_Release</th>\n",
       "      <th>Genre</th>\n",
       "      <th>NA_sales</th>\n",
       "      <th>EU_sales</th>\n",
       "      <th>JP_sales</th>\n",
       "      <th>Other_sales</th>\n",
       "      <th>Critic_Score</th>\n",
       "      <th>User_Score</th>\n",
       "      <th>Rating</th>\n",
       "    </tr>\n",
       "  </thead>\n",
       "  <tbody>\n",
       "    <tr>\n",
       "      <th>0</th>\n",
       "      <td>Wii Sports</td>\n",
       "      <td>Wii</td>\n",
       "      <td>2006.0</td>\n",
       "      <td>Sports</td>\n",
       "      <td>41.36</td>\n",
       "      <td>28.96</td>\n",
       "      <td>3.77</td>\n",
       "      <td>8.45</td>\n",
       "      <td>76.0</td>\n",
       "      <td>8</td>\n",
       "      <td>E</td>\n",
       "    </tr>\n",
       "    <tr>\n",
       "      <th>1</th>\n",
       "      <td>Super Mario Bros.</td>\n",
       "      <td>NES</td>\n",
       "      <td>1985.0</td>\n",
       "      <td>Platform</td>\n",
       "      <td>29.08</td>\n",
       "      <td>3.58</td>\n",
       "      <td>6.81</td>\n",
       "      <td>0.77</td>\n",
       "      <td>NaN</td>\n",
       "      <td>NaN</td>\n",
       "      <td>NaN</td>\n",
       "    </tr>\n",
       "    <tr>\n",
       "      <th>2</th>\n",
       "      <td>Mario Kart Wii</td>\n",
       "      <td>Wii</td>\n",
       "      <td>2008.0</td>\n",
       "      <td>Racing</td>\n",
       "      <td>15.68</td>\n",
       "      <td>12.76</td>\n",
       "      <td>3.79</td>\n",
       "      <td>3.29</td>\n",
       "      <td>82.0</td>\n",
       "      <td>8.3</td>\n",
       "      <td>E</td>\n",
       "    </tr>\n",
       "    <tr>\n",
       "      <th>3</th>\n",
       "      <td>Wii Sports Resort</td>\n",
       "      <td>Wii</td>\n",
       "      <td>2009.0</td>\n",
       "      <td>Sports</td>\n",
       "      <td>15.61</td>\n",
       "      <td>10.93</td>\n",
       "      <td>3.28</td>\n",
       "      <td>2.95</td>\n",
       "      <td>80.0</td>\n",
       "      <td>8</td>\n",
       "      <td>E</td>\n",
       "    </tr>\n",
       "    <tr>\n",
       "      <th>4</th>\n",
       "      <td>Pokemon Red/Pokemon Blue</td>\n",
       "      <td>GB</td>\n",
       "      <td>1996.0</td>\n",
       "      <td>Role-Playing</td>\n",
       "      <td>11.27</td>\n",
       "      <td>8.89</td>\n",
       "      <td>10.22</td>\n",
       "      <td>1.00</td>\n",
       "      <td>NaN</td>\n",
       "      <td>NaN</td>\n",
       "      <td>NaN</td>\n",
       "    </tr>\n",
       "  </tbody>\n",
       "</table>\n",
       "</div>"
      ],
      "text/plain": [
       "                       Name Platform  Year_of_Release         Genre  NA_sales  \\\n",
       "0                Wii Sports      Wii           2006.0        Sports     41.36   \n",
       "1         Super Mario Bros.      NES           1985.0      Platform     29.08   \n",
       "2            Mario Kart Wii      Wii           2008.0        Racing     15.68   \n",
       "3         Wii Sports Resort      Wii           2009.0        Sports     15.61   \n",
       "4  Pokemon Red/Pokemon Blue       GB           1996.0  Role-Playing     11.27   \n",
       "\n",
       "   EU_sales  JP_sales  Other_sales  Critic_Score User_Score Rating  \n",
       "0     28.96      3.77         8.45          76.0          8      E  \n",
       "1      3.58      6.81         0.77           NaN        NaN    NaN  \n",
       "2     12.76      3.79         3.29          82.0        8.3      E  \n",
       "3     10.93      3.28         2.95          80.0          8      E  \n",
       "4      8.89     10.22         1.00           NaN        NaN    NaN  "
      ]
     },
     "execution_count": 3,
     "metadata": {},
     "output_type": "execute_result"
    }
   ],
   "source": [
    "games.head()"
   ]
  },
  {
   "cell_type": "code",
   "execution_count": 4,
   "metadata": {
    "scrolled": true
   },
   "outputs": [
    {
     "name": "stdout",
     "output_type": "stream",
     "text": [
      "<class 'pandas.core.frame.DataFrame'>\n",
      "RangeIndex: 16715 entries, 0 to 16714\n",
      "Data columns (total 11 columns):\n",
      " #   Column           Non-Null Count  Dtype  \n",
      "---  ------           --------------  -----  \n",
      " 0   Name             16713 non-null  object \n",
      " 1   Platform         16715 non-null  object \n",
      " 2   Year_of_Release  16446 non-null  float64\n",
      " 3   Genre            16713 non-null  object \n",
      " 4   NA_sales         16715 non-null  float64\n",
      " 5   EU_sales         16715 non-null  float64\n",
      " 6   JP_sales         16715 non-null  float64\n",
      " 7   Other_sales      16715 non-null  float64\n",
      " 8   Critic_Score     8137 non-null   float64\n",
      " 9   User_Score       10014 non-null  object \n",
      " 10  Rating           9949 non-null   object \n",
      "dtypes: float64(6), object(5)\n",
      "memory usage: 1.4+ MB\n"
     ]
    }
   ],
   "source": [
    "games.info()"
   ]
  },
  {
   "cell_type": "code",
   "execution_count": 5,
   "metadata": {},
   "outputs": [
    {
     "data": {
      "text/plain": [
       "0"
      ]
     },
     "execution_count": 5,
     "metadata": {},
     "output_type": "execute_result"
    }
   ],
   "source": [
    "#проверем на дубликаты\n",
    "games.duplicated().sum()"
   ]
  },
  {
   "cell_type": "markdown",
   "metadata": {},
   "source": [
    "# Шаг 2. Подготовьте данные"
   ]
  },
  {
   "cell_type": "code",
   "execution_count": 6,
   "metadata": {},
   "outputs": [
    {
     "data": {
      "text/plain": [
       "Index(['name', 'platform', 'year_of_release', 'genre', 'na_sales', 'eu_sales',\n",
       "       'jp_sales', 'other_sales', 'critic_score', 'user_score', 'rating'],\n",
       "      dtype='object')"
      ]
     },
     "execution_count": 6,
     "metadata": {},
     "output_type": "execute_result"
    }
   ],
   "source": [
    "games.columns = games.columns.str.lower() #Замените названия столбцов (приведите к нижнему регистру)\n",
    "games.columns"
   ]
  },
  {
   "cell_type": "code",
   "execution_count": 7,
   "metadata": {},
   "outputs": [
    {
     "data": {
      "text/plain": [
       "array(['8', nan, '8.3', '8.5', '6.6', '8.4', '8.6', '7.7', '6.3', '7.4',\n",
       "       '8.2', '9', '7.9', '8.1', '8.7', '7.1', '3.4', '5.3', '4.8', '3.2',\n",
       "       '8.9', '6.4', '7.8', '7.5', '2.6', '7.2', '9.2', '7', '7.3', '4.3',\n",
       "       '7.6', '5.7', '5', '9.1', '6.5', 'tbd', '8.8', '6.9', '9.4', '6.8',\n",
       "       '6.1', '6.7', '5.4', '4', '4.9', '4.5', '9.3', '6.2', '4.2', '6',\n",
       "       '3.7', '4.1', '5.8', '5.6', '5.5', '4.4', '4.6', '5.9', '3.9',\n",
       "       '3.1', '2.9', '5.2', '3.3', '4.7', '5.1', '3.5', '2.5', '1.9', '3',\n",
       "       '2.7', '2.2', '2', '9.5', '2.1', '3.6', '2.8', '1.8', '3.8', '0',\n",
       "       '1.6', '9.6', '2.4', '1.7', '1.1', '0.3', '1.5', '0.7', '1.2',\n",
       "       '2.3', '0.5', '1.3', '0.2', '0.6', '1.4', '0.9', '1', '9.7'],\n",
       "      dtype=object)"
      ]
     },
     "execution_count": 7,
     "metadata": {},
     "output_type": "execute_result"
    }
   ],
   "source": [
    "games['user_score'].unique()"
   ]
  },
  {
   "cell_type": "markdown",
   "metadata": {},
   "source": [
    "Поменяем тип данных столбцу 'user_score' так как там значение числовое, а тип стоит object. Еще там есть аббревиатура 'tbd', что значит скорее всего что оценка не определена, возможно для формирования оценки не достаточно данных. Для нас это равносильно отсутствию оценки, поэтому заменим все 'tbd' на nan."
   ]
  },
  {
   "cell_type": "code",
   "execution_count": 8,
   "metadata": {},
   "outputs": [],
   "source": [
    " games['user_score'] = pd.to_numeric(games['user_score'], errors='coerce')"
   ]
  },
  {
   "cell_type": "code",
   "execution_count": 9,
   "metadata": {
    "scrolled": true
   },
   "outputs": [
    {
     "data": {
      "text/plain": [
       "array([2006., 1985., 2008., 2009., 1996., 1989., 1984., 2005., 1999.,\n",
       "       2007., 2010., 2013., 2004., 1990., 1988., 2002., 2001., 2011.,\n",
       "       1998., 2015., 2012., 2014., 1992., 1997., 1993., 1994., 1982.,\n",
       "       2016., 2003., 1986., 2000.,   nan, 1995., 1991., 1981., 1987.,\n",
       "       1980., 1983.])"
      ]
     },
     "execution_count": 9,
     "metadata": {},
     "output_type": "execute_result"
    }
   ],
   "source": [
    "games['year_of_release'].unique()"
   ]
  },
  {
   "cell_type": "code",
   "execution_count": 10,
   "metadata": {},
   "outputs": [],
   "source": [
    "games['year_of_release'] = games['year_of_release'].astype('Int64')"
   ]
  },
  {
   "cell_type": "code",
   "execution_count": 11,
   "metadata": {},
   "outputs": [
    {
     "data": {
      "text/plain": [
       "<IntegerArray>\n",
       "[2006, 1985, 2008, 2009, 1996, 1989, 1984, 2005, 1999, 2007, 2010, 2013, 2004,\n",
       " 1990, 1988, 2002, 2001, 2011, 1998, 2015, 2012, 2014, 1992, 1997, 1993, 1994,\n",
       " 1982, 2016, 2003, 1986, 2000, <NA>, 1995, 1991, 1981, 1987, 1980, 1983]\n",
       "Length: 38, dtype: Int64"
      ]
     },
     "execution_count": 11,
     "metadata": {},
     "output_type": "execute_result"
    }
   ],
   "source": [
    "games['year_of_release'].unique()"
   ]
  },
  {
   "cell_type": "markdown",
   "metadata": {},
   "source": [
    "Поменяли еще тип данных столбцу 'year_of_release' на целочислиный."
   ]
  },
  {
   "cell_type": "markdown",
   "metadata": {},
   "source": [
    "Пропуски могли повится или из-за ошибки выгрузки данных или из-за человеческого фактора, а может не заполнены намерено. Разберем поподробнее и обработаем их."
   ]
  },
  {
   "cell_type": "markdown",
   "metadata": {},
   "source": [
    "Удалим пропуски из столбцов 'name' и 'genre', потому что это всего 2 строки и никак не повлияет на общие данные."
   ]
  },
  {
   "cell_type": "code",
   "execution_count": 12,
   "metadata": {
    "scrolled": true
   },
   "outputs": [
    {
     "name": "stdout",
     "output_type": "stream",
     "text": [
      "<class 'pandas.core.frame.DataFrame'>\n",
      "RangeIndex: 16713 entries, 0 to 16712\n",
      "Data columns (total 11 columns):\n",
      " #   Column           Non-Null Count  Dtype  \n",
      "---  ------           --------------  -----  \n",
      " 0   name             16713 non-null  object \n",
      " 1   platform         16713 non-null  object \n",
      " 2   year_of_release  16444 non-null  Int64  \n",
      " 3   genre            16713 non-null  object \n",
      " 4   na_sales         16713 non-null  float64\n",
      " 5   eu_sales         16713 non-null  float64\n",
      " 6   jp_sales         16713 non-null  float64\n",
      " 7   other_sales      16713 non-null  float64\n",
      " 8   critic_score     8137 non-null   float64\n",
      " 9   user_score       7590 non-null   float64\n",
      " 10  rating           9949 non-null   object \n",
      "dtypes: Int64(1), float64(6), object(4)\n",
      "memory usage: 1.4+ MB\n"
     ]
    }
   ],
   "source": [
    "games.dropna(subset=['name'], inplace=True)\n",
    "games.reset_index(inplace=True,drop=True)\n",
    "games.info()"
   ]
  },
  {
   "cell_type": "markdown",
   "metadata": {},
   "source": [
    "Также удалим строки в столбце 'year_of_release', так как их тоже немного и в дальнейшем мы будем активно работать с годом выпуска. В остальных столбцах имеются пропуски но заплнять их не будем, так как это может исказить данные и возможности их чем-то заполнить нет."
   ]
  },
  {
   "cell_type": "code",
   "execution_count": 13,
   "metadata": {},
   "outputs": [
    {
     "name": "stdout",
     "output_type": "stream",
     "text": [
      "<class 'pandas.core.frame.DataFrame'>\n",
      "RangeIndex: 16444 entries, 0 to 16443\n",
      "Data columns (total 11 columns):\n",
      " #   Column           Non-Null Count  Dtype  \n",
      "---  ------           --------------  -----  \n",
      " 0   name             16444 non-null  object \n",
      " 1   platform         16444 non-null  object \n",
      " 2   year_of_release  16444 non-null  Int64  \n",
      " 3   genre            16444 non-null  object \n",
      " 4   na_sales         16444 non-null  float64\n",
      " 5   eu_sales         16444 non-null  float64\n",
      " 6   jp_sales         16444 non-null  float64\n",
      " 7   other_sales      16444 non-null  float64\n",
      " 8   critic_score     7983 non-null   float64\n",
      " 9   user_score       7463 non-null   float64\n",
      " 10  rating           9768 non-null   object \n",
      "dtypes: Int64(1), float64(6), object(4)\n",
      "memory usage: 1.4+ MB\n"
     ]
    }
   ],
   "source": [
    "games.dropna(subset=['year_of_release'], inplace=True)\n",
    "games.reset_index(inplace=True,drop=True)\n",
    "games.info()"
   ]
  },
  {
   "cell_type": "code",
   "execution_count": 14,
   "metadata": {},
   "outputs": [],
   "source": [
    "games['total_sales'] = games['na_sales'] + games['eu_sales'] + games['jp_sales'] + games['other_sales'] \n",
    "#Посчитайте суммарные продажи во всех регионах и запишите их в отдельный столбец"
   ]
  },
  {
   "cell_type": "code",
   "execution_count": 15,
   "metadata": {},
   "outputs": [
    {
     "name": "stdout",
     "output_type": "stream",
     "text": [
      "<class 'pandas.core.frame.DataFrame'>\n",
      "RangeIndex: 16444 entries, 0 to 16443\n",
      "Data columns (total 12 columns):\n",
      " #   Column           Non-Null Count  Dtype  \n",
      "---  ------           --------------  -----  \n",
      " 0   name             16444 non-null  object \n",
      " 1   platform         16444 non-null  object \n",
      " 2   year_of_release  16444 non-null  Int64  \n",
      " 3   genre            16444 non-null  object \n",
      " 4   na_sales         16444 non-null  float64\n",
      " 5   eu_sales         16444 non-null  float64\n",
      " 6   jp_sales         16444 non-null  float64\n",
      " 7   other_sales      16444 non-null  float64\n",
      " 8   critic_score     7983 non-null   float64\n",
      " 9   user_score       7463 non-null   float64\n",
      " 10  rating           9768 non-null   object \n",
      " 11  total_sales      16444 non-null  float64\n",
      "dtypes: Int64(1), float64(7), object(4)\n",
      "memory usage: 1.5+ MB\n",
      "None\n",
      "-------------------------\n",
      "name [' Beyblade Burst' ' Fire Emblem Fates' \" Frozen: Olaf's Quest\" ...\n",
      " 'uDraw Studio' 'uDraw Studio: Instant Artist'\n",
      " '¡Shin Chan Flipa en colores!']\n",
      "name : кол-во NaN 0 , процент NaN 0.0 %\n",
      "-------------------------\n",
      "platform ['2600' '3DO' '3DS' 'DC' 'DS' 'GB' 'GBA' 'GC' 'GEN' 'GG' 'N64' 'NES' 'NG'\n",
      " 'PC' 'PCFX' 'PS' 'PS2' 'PS3' 'PS4' 'PSP' 'PSV' 'SAT' 'SCD' 'SNES' 'TG16'\n",
      " 'WS' 'Wii' 'WiiU' 'X360' 'XB' 'XOne']\n",
      "platform : кол-во NaN 0 , процент NaN 0.0 %\n",
      "-------------------------\n",
      "year_of_release <IntegerArray>\n",
      "[1980, 1981, 1982, 1983, 1984, 1985, 1986, 1987, 1988, 1989, 1990, 1991, 1992,\n",
      " 1993, 1994, 1995, 1996, 1997, 1998, 1999, 2000, 2001, 2002, 2003, 2004, 2005,\n",
      " 2006, 2007, 2008, 2009, 2010, 2011, 2012, 2013, 2014, 2015, 2016]\n",
      "Length: 37, dtype: Int64\n",
      "year_of_release : кол-во NaN 0 , процент NaN 0.0 %\n",
      "-------------------------\n",
      "genre ['Action' 'Adventure' 'Fighting' 'Misc' 'Platform' 'Puzzle' 'Racing'\n",
      " 'Role-Playing' 'Shooter' 'Simulation' 'Sports' 'Strategy']\n",
      "genre : кол-во NaN 0 , процент NaN 0.0 %\n",
      "-------------------------\n",
      "critic_score [13. 17. 19. 20. 21. 23. 24. 25. 26. 27. 28. 29. 30. 31. 32. 33. 34. 35.\n",
      " 36. 37. 38. 39. 40. 41. 42. 43. 44. 45. 46. 47. 48. 49. 50. 51. 52. 53.\n",
      " 54. 55. 56. 57. 58. 59. 60. 61. 62. 63. 64. 65. 66. 67. 68. 69. 70. 71.\n",
      " 72. 73. 74. 75. 76. 77. 78. 79. 80. 81. 82. 83. 84. 85. 86. 87. 88. 89.\n",
      " 90. 91. 92. 93. 94. 95. 96. 97. 98. nan]\n",
      "critic_score : кол-во NaN 8461 , процент NaN 51.45 %\n",
      "-------------------------\n",
      "user_score [0.  0.2 0.3 0.5 0.6 0.7 0.9 1.  1.1 1.2 1.3 1.4 1.5 1.6 1.7 1.8 1.9 2.\n",
      " 2.1 2.2 2.3 2.4 2.5 2.6 2.7 2.8 2.9 3.  3.1 3.2 3.3 3.4 3.5 3.6 3.7 3.8\n",
      " 3.9 4.  4.1 4.2 4.3 4.4 4.5 4.6 4.7 4.8 4.9 5.  5.1 5.2 5.3 5.4 5.5 5.6\n",
      " 5.7 5.8 5.9 6.  6.1 6.2 6.3 6.4 6.5 6.6 6.7 6.8 6.9 7.  7.1 7.2 7.3 7.4\n",
      " 7.5 7.6 7.7 7.8 7.9 8.  8.1 8.2 8.3 8.4 8.5 8.6 8.7 8.8 8.9 9.  9.1 9.2\n",
      " 9.3 9.4 9.5 9.6 9.7 nan]\n",
      "user_score : кол-во NaN 8981 , процент NaN 54.62 %\n",
      "-------------------------\n",
      "rating ['AO' 'E' 'E10+' 'EC' 'K-A' 'M' 'RP' 'T' nan]\n",
      "rating : кол-во NaN 6676 , процент NaN 40.6 %\n"
     ]
    }
   ],
   "source": [
    "# Комментарий ревьюера\n",
    "# Посмотрим, что у нас осталось\n",
    "temp = games.copy() \n",
    "list_c = ['name', 'platform', 'year_of_release', 'genre', 'critic_score', 'user_score', 'rating']\n",
    "print(temp.info())\n",
    "for col_l in list_c:\n",
    "  print('-'* 25)\n",
    "  print(col_l, temp[col_l].sort_values().unique())\n",
    "  print(col_l,': кол-во NaN',temp[col_l].isna().sum(),\n",
    "        ', процент NaN', round(temp[col_l].isna().sum()/len(temp)*100, 2),'%')"
   ]
  },
  {
   "cell_type": "markdown",
   "metadata": {},
   "source": [
    "# Шаг 3. Проведите исследовательский анализ данных"
   ]
  },
  {
   "cell_type": "code",
   "execution_count": 16,
   "metadata": {},
   "outputs": [
    {
     "data": {
      "image/png": "[encoded data removed]",
      "text/plain": [
       "<Figure size 432x288 with 1 Axes>"
      ]
     },
     "metadata": {
      "needs_background": "light"
     },
     "output_type": "display_data"
    }
   ],
   "source": [
    "#Посмотрите, сколько игр выпускалось в разные годы. Важны ли данные за все периоды?\n",
    "games.pivot_table(index='year_of_release', values='name', aggfunc='count').plot(grid=True, title='Количество игр, выпущенных в разные годы');"
   ]
  },
  {
   "cell_type": "markdown",
   "metadata": {},
   "source": [
    "По графику видно что начиная с 1990 года начался бурный рост выпуска игр, который продолжался примерно до 2008 года. После начался спад. Думаю данные важны где-то за последние 10 лет, чтобы учитывать последние тренды."
   ]
  },
  {
   "cell_type": "code",
   "execution_count": 17,
   "metadata": {},
   "outputs": [
    {
     "data": {
      "text/html": [
       "<div>\n",
       "<style scoped>\n",
       "    .dataframe tbody tr th:only-of-type {\n",
       "        vertical-align: middle;\n",
       "    }\n",
       "\n",
       "    .dataframe tbody tr th {\n",
       "        vertical-align: top;\n",
       "    }\n",
       "\n",
       "    .dataframe thead th {\n",
       "        text-align: right;\n",
       "    }\n",
       "</style>\n",
       "<table border=\"1\" class=\"dataframe\">\n",
       "  <thead>\n",
       "    <tr style=\"text-align: right;\">\n",
       "      <th></th>\n",
       "      <th>total_sales</th>\n",
       "    </tr>\n",
       "    <tr>\n",
       "      <th>platform</th>\n",
       "      <th></th>\n",
       "    </tr>\n",
       "  </thead>\n",
       "  <tbody>\n",
       "    <tr>\n",
       "      <th>PS2</th>\n",
       "      <td>1233.56</td>\n",
       "    </tr>\n",
       "    <tr>\n",
       "      <th>X360</th>\n",
       "      <td>961.24</td>\n",
       "    </tr>\n",
       "    <tr>\n",
       "      <th>PS3</th>\n",
       "      <td>931.34</td>\n",
       "    </tr>\n",
       "    <tr>\n",
       "      <th>Wii</th>\n",
       "      <td>891.18</td>\n",
       "    </tr>\n",
       "    <tr>\n",
       "      <th>DS</th>\n",
       "      <td>802.78</td>\n",
       "    </tr>\n",
       "    <tr>\n",
       "      <th>PS</th>\n",
       "      <td>727.58</td>\n",
       "    </tr>\n",
       "    <tr>\n",
       "      <th>PS4</th>\n",
       "      <td>314.14</td>\n",
       "    </tr>\n",
       "    <tr>\n",
       "      <th>GBA</th>\n",
       "      <td>312.88</td>\n",
       "    </tr>\n",
       "    <tr>\n",
       "      <th>PSP</th>\n",
       "      <td>289.53</td>\n",
       "    </tr>\n",
       "    <tr>\n",
       "      <th>3DS</th>\n",
       "      <td>257.81</td>\n",
       "    </tr>\n",
       "    <tr>\n",
       "      <th>PC</th>\n",
       "      <td>255.76</td>\n",
       "    </tr>\n",
       "    <tr>\n",
       "      <th>GB</th>\n",
       "      <td>254.43</td>\n",
       "    </tr>\n",
       "    <tr>\n",
       "      <th>XB</th>\n",
       "      <td>251.57</td>\n",
       "    </tr>\n",
       "    <tr>\n",
       "      <th>NES</th>\n",
       "      <td>251.05</td>\n",
       "    </tr>\n",
       "    <tr>\n",
       "      <th>N64</th>\n",
       "      <td>218.01</td>\n",
       "    </tr>\n",
       "    <tr>\n",
       "      <th>SNES</th>\n",
       "      <td>200.04</td>\n",
       "    </tr>\n",
       "    <tr>\n",
       "      <th>GC</th>\n",
       "      <td>196.73</td>\n",
       "    </tr>\n",
       "    <tr>\n",
       "      <th>XOne</th>\n",
       "      <td>159.32</td>\n",
       "    </tr>\n",
       "    <tr>\n",
       "      <th>2600</th>\n",
       "      <td>86.48</td>\n",
       "    </tr>\n",
       "    <tr>\n",
       "      <th>WiiU</th>\n",
       "      <td>82.19</td>\n",
       "    </tr>\n",
       "    <tr>\n",
       "      <th>PSV</th>\n",
       "      <td>53.81</td>\n",
       "    </tr>\n",
       "    <tr>\n",
       "      <th>SAT</th>\n",
       "      <td>33.59</td>\n",
       "    </tr>\n",
       "    <tr>\n",
       "      <th>GEN</th>\n",
       "      <td>28.35</td>\n",
       "    </tr>\n",
       "    <tr>\n",
       "      <th>DC</th>\n",
       "      <td>15.95</td>\n",
       "    </tr>\n",
       "    <tr>\n",
       "      <th>SCD</th>\n",
       "      <td>1.86</td>\n",
       "    </tr>\n",
       "    <tr>\n",
       "      <th>NG</th>\n",
       "      <td>1.44</td>\n",
       "    </tr>\n",
       "    <tr>\n",
       "      <th>WS</th>\n",
       "      <td>1.42</td>\n",
       "    </tr>\n",
       "    <tr>\n",
       "      <th>TG16</th>\n",
       "      <td>0.16</td>\n",
       "    </tr>\n",
       "    <tr>\n",
       "      <th>3DO</th>\n",
       "      <td>0.10</td>\n",
       "    </tr>\n",
       "    <tr>\n",
       "      <th>GG</th>\n",
       "      <td>0.04</td>\n",
       "    </tr>\n",
       "    <tr>\n",
       "      <th>PCFX</th>\n",
       "      <td>0.03</td>\n",
       "    </tr>\n",
       "  </tbody>\n",
       "</table>\n",
       "</div>"
      ],
      "text/plain": [
       "          total_sales\n",
       "platform             \n",
       "PS2           1233.56\n",
       "X360           961.24\n",
       "PS3            931.34\n",
       "Wii            891.18\n",
       "DS             802.78\n",
       "PS             727.58\n",
       "PS4            314.14\n",
       "GBA            312.88\n",
       "PSP            289.53\n",
       "3DS            257.81\n",
       "PC             255.76\n",
       "GB             254.43\n",
       "XB             251.57\n",
       "NES            251.05\n",
       "N64            218.01\n",
       "SNES           200.04\n",
       "GC             196.73\n",
       "XOne           159.32\n",
       "2600            86.48\n",
       "WiiU            82.19\n",
       "PSV             53.81\n",
       "SAT             33.59\n",
       "GEN             28.35\n",
       "DC              15.95\n",
       "SCD              1.86\n",
       "NG               1.44\n",
       "WS               1.42\n",
       "TG16             0.16\n",
       "3DO              0.10\n",
       "GG               0.04\n",
       "PCFX             0.03"
      ]
     },
     "execution_count": 17,
     "metadata": {},
     "output_type": "execute_result"
    }
   ],
   "source": [
    "#отсортируеми по продажам\n",
    "sales_platform = games.pivot_table(index='platform', values='total_sales', aggfunc='sum').sort_values(by='total_sales', ascending=False)\n",
    "sales_platform"
   ]
  },
  {
   "cell_type": "code",
   "execution_count": 18,
   "metadata": {},
   "outputs": [
    {
     "data": {
      "text/plain": [
       "['PS2', 'X360', 'PS3', 'Wii', 'DS', 'PS', 'PS4', 'GBA', 'PSP', '3DS']"
      ]
     },
     "execution_count": 18,
     "metadata": {},
     "output_type": "execute_result"
    }
   ],
   "source": [
    "#выбирем 10 самых продоваемых и посмотрим распределение по годам\n",
    "best_sales_platform = list(sales_platform.index[:10])\n",
    "best_sales_platform"
   ]
  },
  {
   "cell_type": "code",
   "execution_count": 19,
   "metadata": {},
   "outputs": [
    {
     "data": {
      "image/png": "[encoded data removed]",
      "text/plain": [
       "<Figure size 1008x360 with 1 Axes>"
      ]
     },
     "metadata": {
      "needs_background": "light"
     },
     "output_type": "display_data"
    }
   ],
   "source": [
    "#постройте распределение по годам\n",
    "mean_year_life = 0\n",
    "for i in range(0,len(best_sales_platform)):\n",
    "    platform  = games.query('platform == @best_sales_platform[@i]').groupby('year_of_release')['total_sales'].sum()\n",
    "    mean_year_life += platform.count()\n",
    "    platform.plot(x=platform.index, y=platform.values, label=best_sales_platform[i], alpha=0.8, grid=True, figsize=(14,5));\n",
    "plt.legend();"
   ]
  },
  {
   "cell_type": "markdown",
   "metadata": {},
   "source": [
    "По графику видно что примерный срок жизни платформы где-то 10 лет. Но это с учетом фазы роcта в начале и падения в конце.\n",
    "Также мы видели что после 2008 года началось падение выпуска игр."
   ]
  },
  {
   "cell_type": "code",
   "execution_count": 20,
   "metadata": {},
   "outputs": [
    {
     "name": "stdout",
     "output_type": "stream",
     "text": [
      "<class 'pandas.core.frame.DataFrame'>\n",
      "Int64Index: 2886 entries, 16 to 16443\n",
      "Data columns (total 12 columns):\n",
      " #   Column           Non-Null Count  Dtype  \n",
      "---  ------           --------------  -----  \n",
      " 0   name             2886 non-null   object \n",
      " 1   platform         2886 non-null   object \n",
      " 2   year_of_release  2886 non-null   Int64  \n",
      " 3   genre            2886 non-null   object \n",
      " 4   na_sales         2886 non-null   float64\n",
      " 5   eu_sales         2886 non-null   float64\n",
      " 6   jp_sales         2886 non-null   float64\n",
      " 7   other_sales      2886 non-null   float64\n",
      " 8   critic_score     1312 non-null   float64\n",
      " 9   user_score       1531 non-null   float64\n",
      " 10  rating           1611 non-null   object \n",
      " 11  total_sales      2886 non-null   float64\n",
      "dtypes: Int64(1), float64(7), object(4)\n",
      "memory usage: 295.9+ KB\n"
     ]
    }
   ],
   "source": [
    "#Возьмите данные за соответствующий актуальный период\n",
    "new_games = games[games['year_of_release'] > 2011]\n",
    "new_games.info()"
   ]
  },
  {
   "cell_type": "code",
   "execution_count": 21,
   "metadata": {},
   "outputs": [
    {
     "data": {
      "text/plain": [
       "<AxesSubplot:xlabel='year_of_release'>"
      ]
     },
     "execution_count": 21,
     "metadata": {},
     "output_type": "execute_result"
    },
    {
     "data": {
      "image/png": "[encoded data removed]",
      "text/plain": [
       "<Figure size 1008x360 with 1 Axes>"
      ]
     },
     "metadata": {
      "needs_background": "light"
     },
     "output_type": "display_data"
    }
   ],
   "source": [
    "#Какие платформы лидируют по продажам, растут или падают? Выберите несколько потенциально прибыльных платформ\n",
    "new_games.groupby(['platform', 'year_of_release'])['total_sales'].sum().unstack('platform').plot(alpha=0.8, grid=True, figsize=(14,5))"
   ]
  },
  {
   "cell_type": "markdown",
   "metadata": {},
   "source": [
    "Все платформы падают по прадажам. Учитывая тенденции последних лет потенциально прибыльными можно считать PS4, XOne, 3DS."
   ]
  },
  {
   "cell_type": "code",
   "execution_count": 22,
   "metadata": {
    "scrolled": true
   },
   "outputs": [
    {
     "data": {
      "image/png": "[encoded data removed]",
      "text/plain": [
       "<Figure size 1296x360 with 1 Axes>"
      ]
     },
     "metadata": {
      "needs_background": "light"
     },
     "output_type": "display_data"
    }
   ],
   "source": [
    "#Постройте график «ящик с усами» по глобальным продажам игр в разбивке по платформам\n",
    "plt.figure(figsize=(18,5))\n",
    "sns.boxplot(data=new_games, x='total_sales', y='platform');"
   ]
  },
  {
   "cell_type": "code",
   "execution_count": 23,
   "metadata": {},
   "outputs": [
    {
     "data": {
      "text/plain": [
       "(0.0, 2.0)"
      ]
     },
     "execution_count": 23,
     "metadata": {},
     "output_type": "execute_result"
    },
    {
     "data": {
      "image/png": "[encoded data removed]",
      "text/plain": [
       "<Figure size 1296x360 with 1 Axes>"
      ]
     },
     "metadata": {
      "needs_background": "light"
     },
     "output_type": "display_data"
    }
   ],
   "source": [
    "plt.figure(figsize=(18,5))\n",
    "sns.boxplot(data=new_games, x='total_sales', y='platform');\n",
    "plt.xlim(0,2)"
   ]
  },
  {
   "cell_type": "markdown",
   "metadata": {},
   "source": [
    "Судя по графику у нас много выбросов, которые сильно отличаютя от медианы."
   ]
  },
  {
   "cell_type": "code",
   "execution_count": 24,
   "metadata": {},
   "outputs": [
    {
     "data": {
      "image/png": "[encoded data removed]",
      "text/plain": [
       "<Figure size 432x288 with 1 Axes>"
      ]
     },
     "metadata": {
      "needs_background": "light"
     },
     "output_type": "display_data"
    }
   ],
   "source": [
    "#Постройте диаграмму рассеяния и посчитайте корреляцию между отзывами и продажами\n",
    "new_games[new_games.platform == 'PS4'].plot(x='critic_score', y='total_sales', kind='scatter');"
   ]
  },
  {
   "cell_type": "code",
   "execution_count": 25,
   "metadata": {},
   "outputs": [
    {
     "data": {
      "image/png": "[encoded data removed]",
      "text/plain": [
       "<Figure size 432x288 with 1 Axes>"
      ]
     },
     "metadata": {
      "needs_background": "light"
     },
     "output_type": "display_data"
    }
   ],
   "source": [
    "new_games[new_games.platform == 'PS4'].plot(x='user_score', y='total_sales', kind='scatter');"
   ]
  },
  {
   "cell_type": "code",
   "execution_count": 26,
   "metadata": {},
   "outputs": [
    {
     "data": {
      "text/html": [
       "<div>\n",
       "<style scoped>\n",
       "    .dataframe tbody tr th:only-of-type {\n",
       "        vertical-align: middle;\n",
       "    }\n",
       "\n",
       "    .dataframe tbody tr th {\n",
       "        vertical-align: top;\n",
       "    }\n",
       "\n",
       "    .dataframe thead th {\n",
       "        text-align: right;\n",
       "    }\n",
       "</style>\n",
       "<table border=\"1\" class=\"dataframe\">\n",
       "  <thead>\n",
       "    <tr style=\"text-align: right;\">\n",
       "      <th></th>\n",
       "      <th>total_sales</th>\n",
       "      <th>critic_score</th>\n",
       "      <th>user_score</th>\n",
       "    </tr>\n",
       "  </thead>\n",
       "  <tbody>\n",
       "    <tr>\n",
       "      <th>total_sales</th>\n",
       "      <td>1.000000</td>\n",
       "      <td>0.406568</td>\n",
       "      <td>-0.031957</td>\n",
       "    </tr>\n",
       "    <tr>\n",
       "      <th>critic_score</th>\n",
       "      <td>0.406568</td>\n",
       "      <td>1.000000</td>\n",
       "      <td>0.557654</td>\n",
       "    </tr>\n",
       "    <tr>\n",
       "      <th>user_score</th>\n",
       "      <td>-0.031957</td>\n",
       "      <td>0.557654</td>\n",
       "      <td>1.000000</td>\n",
       "    </tr>\n",
       "  </tbody>\n",
       "</table>\n",
       "</div>"
      ],
      "text/plain": [
       "              total_sales  critic_score  user_score\n",
       "total_sales      1.000000      0.406568   -0.031957\n",
       "critic_score     0.406568      1.000000    0.557654\n",
       "user_score      -0.031957      0.557654    1.000000"
      ]
     },
     "execution_count": 26,
     "metadata": {},
     "output_type": "execute_result"
    }
   ],
   "source": [
    "new_games[new_games.platform == 'PS4'][['total_sales', 'critic_score', 'user_score']].corr()"
   ]
  },
  {
   "cell_type": "markdown",
   "metadata": {},
   "source": [
    "Зависимость продаж от оценки критиков есть, но оная слабая."
   ]
  },
  {
   "cell_type": "code",
   "execution_count": 27,
   "metadata": {},
   "outputs": [
    {
     "data": {
      "text/plain": [
       "'3DS'"
      ]
     },
     "metadata": {},
     "output_type": "display_data"
    },
    {
     "data": {
      "text/html": [
       "<div>\n",
       "<style scoped>\n",
       "    .dataframe tbody tr th:only-of-type {\n",
       "        vertical-align: middle;\n",
       "    }\n",
       "\n",
       "    .dataframe tbody tr th {\n",
       "        vertical-align: top;\n",
       "    }\n",
       "\n",
       "    .dataframe thead th {\n",
       "        text-align: right;\n",
       "    }\n",
       "</style>\n",
       "<table border=\"1\" class=\"dataframe\">\n",
       "  <thead>\n",
       "    <tr style=\"text-align: right;\">\n",
       "      <th></th>\n",
       "      <th>total_sales</th>\n",
       "      <th>critic_score</th>\n",
       "      <th>user_score</th>\n",
       "    </tr>\n",
       "  </thead>\n",
       "  <tbody>\n",
       "    <tr>\n",
       "      <th>total_sales</th>\n",
       "      <td>1.000000</td>\n",
       "      <td>0.320803</td>\n",
       "      <td>0.197583</td>\n",
       "    </tr>\n",
       "    <tr>\n",
       "      <th>critic_score</th>\n",
       "      <td>0.320803</td>\n",
       "      <td>1.000000</td>\n",
       "      <td>0.722762</td>\n",
       "    </tr>\n",
       "    <tr>\n",
       "      <th>user_score</th>\n",
       "      <td>0.197583</td>\n",
       "      <td>0.722762</td>\n",
       "      <td>1.000000</td>\n",
       "    </tr>\n",
       "  </tbody>\n",
       "</table>\n",
       "</div>"
      ],
      "text/plain": [
       "              total_sales  critic_score  user_score\n",
       "total_sales      1.000000      0.320803    0.197583\n",
       "critic_score     0.320803      1.000000    0.722762\n",
       "user_score       0.197583      0.722762    1.000000"
      ]
     },
     "metadata": {},
     "output_type": "display_data"
    },
    {
     "data": {
      "text/plain": [
       "'PC'"
      ]
     },
     "metadata": {},
     "output_type": "display_data"
    },
    {
     "data": {
      "text/html": [
       "<div>\n",
       "<style scoped>\n",
       "    .dataframe tbody tr th:only-of-type {\n",
       "        vertical-align: middle;\n",
       "    }\n",
       "\n",
       "    .dataframe tbody tr th {\n",
       "        vertical-align: top;\n",
       "    }\n",
       "\n",
       "    .dataframe thead th {\n",
       "        text-align: right;\n",
       "    }\n",
       "</style>\n",
       "<table border=\"1\" class=\"dataframe\">\n",
       "  <thead>\n",
       "    <tr style=\"text-align: right;\">\n",
       "      <th></th>\n",
       "      <th>total_sales</th>\n",
       "      <th>critic_score</th>\n",
       "      <th>user_score</th>\n",
       "    </tr>\n",
       "  </thead>\n",
       "  <tbody>\n",
       "    <tr>\n",
       "      <th>total_sales</th>\n",
       "      <td>1.000000</td>\n",
       "      <td>0.237243</td>\n",
       "      <td>-0.121867</td>\n",
       "    </tr>\n",
       "    <tr>\n",
       "      <th>critic_score</th>\n",
       "      <td>0.237243</td>\n",
       "      <td>1.000000</td>\n",
       "      <td>0.432587</td>\n",
       "    </tr>\n",
       "    <tr>\n",
       "      <th>user_score</th>\n",
       "      <td>-0.121867</td>\n",
       "      <td>0.432587</td>\n",
       "      <td>1.000000</td>\n",
       "    </tr>\n",
       "  </tbody>\n",
       "</table>\n",
       "</div>"
      ],
      "text/plain": [
       "              total_sales  critic_score  user_score\n",
       "total_sales      1.000000      0.237243   -0.121867\n",
       "critic_score     0.237243      1.000000    0.432587\n",
       "user_score      -0.121867      0.432587    1.000000"
      ]
     },
     "metadata": {},
     "output_type": "display_data"
    },
    {
     "data": {
      "text/plain": [
       "'PS3'"
      ]
     },
     "metadata": {},
     "output_type": "display_data"
    },
    {
     "data": {
      "text/html": [
       "<div>\n",
       "<style scoped>\n",
       "    .dataframe tbody tr th:only-of-type {\n",
       "        vertical-align: middle;\n",
       "    }\n",
       "\n",
       "    .dataframe tbody tr th {\n",
       "        vertical-align: top;\n",
       "    }\n",
       "\n",
       "    .dataframe thead th {\n",
       "        text-align: right;\n",
       "    }\n",
       "</style>\n",
       "<table border=\"1\" class=\"dataframe\">\n",
       "  <thead>\n",
       "    <tr style=\"text-align: right;\">\n",
       "      <th></th>\n",
       "      <th>total_sales</th>\n",
       "      <th>critic_score</th>\n",
       "      <th>user_score</th>\n",
       "    </tr>\n",
       "  </thead>\n",
       "  <tbody>\n",
       "    <tr>\n",
       "      <th>total_sales</th>\n",
       "      <td>1.000000</td>\n",
       "      <td>0.331497</td>\n",
       "      <td>-0.005144</td>\n",
       "    </tr>\n",
       "    <tr>\n",
       "      <th>critic_score</th>\n",
       "      <td>0.331497</td>\n",
       "      <td>1.000000</td>\n",
       "      <td>0.539456</td>\n",
       "    </tr>\n",
       "    <tr>\n",
       "      <th>user_score</th>\n",
       "      <td>-0.005144</td>\n",
       "      <td>0.539456</td>\n",
       "      <td>1.000000</td>\n",
       "    </tr>\n",
       "  </tbody>\n",
       "</table>\n",
       "</div>"
      ],
      "text/plain": [
       "              total_sales  critic_score  user_score\n",
       "total_sales      1.000000      0.331497   -0.005144\n",
       "critic_score     0.331497      1.000000    0.539456\n",
       "user_score      -0.005144      0.539456    1.000000"
      ]
     },
     "metadata": {},
     "output_type": "display_data"
    },
    {
     "data": {
      "text/plain": [
       "'PS4'"
      ]
     },
     "metadata": {},
     "output_type": "display_data"
    },
    {
     "data": {
      "text/html": [
       "<div>\n",
       "<style scoped>\n",
       "    .dataframe tbody tr th:only-of-type {\n",
       "        vertical-align: middle;\n",
       "    }\n",
       "\n",
       "    .dataframe tbody tr th {\n",
       "        vertical-align: top;\n",
       "    }\n",
       "\n",
       "    .dataframe thead th {\n",
       "        text-align: right;\n",
       "    }\n",
       "</style>\n",
       "<table border=\"1\" class=\"dataframe\">\n",
       "  <thead>\n",
       "    <tr style=\"text-align: right;\">\n",
       "      <th></th>\n",
       "      <th>total_sales</th>\n",
       "      <th>critic_score</th>\n",
       "      <th>user_score</th>\n",
       "    </tr>\n",
       "  </thead>\n",
       "  <tbody>\n",
       "    <tr>\n",
       "      <th>total_sales</th>\n",
       "      <td>1.000000</td>\n",
       "      <td>0.406568</td>\n",
       "      <td>-0.031957</td>\n",
       "    </tr>\n",
       "    <tr>\n",
       "      <th>critic_score</th>\n",
       "      <td>0.406568</td>\n",
       "      <td>1.000000</td>\n",
       "      <td>0.557654</td>\n",
       "    </tr>\n",
       "    <tr>\n",
       "      <th>user_score</th>\n",
       "      <td>-0.031957</td>\n",
       "      <td>0.557654</td>\n",
       "      <td>1.000000</td>\n",
       "    </tr>\n",
       "  </tbody>\n",
       "</table>\n",
       "</div>"
      ],
      "text/plain": [
       "              total_sales  critic_score  user_score\n",
       "total_sales      1.000000      0.406568   -0.031957\n",
       "critic_score     0.406568      1.000000    0.557654\n",
       "user_score      -0.031957      0.557654    1.000000"
      ]
     },
     "metadata": {},
     "output_type": "display_data"
    },
    {
     "data": {
      "text/plain": [
       "'X360'"
      ]
     },
     "metadata": {},
     "output_type": "display_data"
    },
    {
     "data": {
      "text/html": [
       "<div>\n",
       "<style scoped>\n",
       "    .dataframe tbody tr th:only-of-type {\n",
       "        vertical-align: middle;\n",
       "    }\n",
       "\n",
       "    .dataframe tbody tr th {\n",
       "        vertical-align: top;\n",
       "    }\n",
       "\n",
       "    .dataframe thead th {\n",
       "        text-align: right;\n",
       "    }\n",
       "</style>\n",
       "<table border=\"1\" class=\"dataframe\">\n",
       "  <thead>\n",
       "    <tr style=\"text-align: right;\">\n",
       "      <th></th>\n",
       "      <th>total_sales</th>\n",
       "      <th>critic_score</th>\n",
       "      <th>user_score</th>\n",
       "    </tr>\n",
       "  </thead>\n",
       "  <tbody>\n",
       "    <tr>\n",
       "      <th>total_sales</th>\n",
       "      <td>1.000000</td>\n",
       "      <td>0.360573</td>\n",
       "      <td>0.006164</td>\n",
       "    </tr>\n",
       "    <tr>\n",
       "      <th>critic_score</th>\n",
       "      <td>0.360573</td>\n",
       "      <td>1.000000</td>\n",
       "      <td>0.557352</td>\n",
       "    </tr>\n",
       "    <tr>\n",
       "      <th>user_score</th>\n",
       "      <td>0.006164</td>\n",
       "      <td>0.557352</td>\n",
       "      <td>1.000000</td>\n",
       "    </tr>\n",
       "  </tbody>\n",
       "</table>\n",
       "</div>"
      ],
      "text/plain": [
       "              total_sales  critic_score  user_score\n",
       "total_sales      1.000000      0.360573    0.006164\n",
       "critic_score     0.360573      1.000000    0.557352\n",
       "user_score       0.006164      0.557352    1.000000"
      ]
     },
     "metadata": {},
     "output_type": "display_data"
    },
    {
     "data": {
      "text/plain": [
       "'XOne'"
      ]
     },
     "metadata": {},
     "output_type": "display_data"
    },
    {
     "data": {
      "text/html": [
       "<div>\n",
       "<style scoped>\n",
       "    .dataframe tbody tr th:only-of-type {\n",
       "        vertical-align: middle;\n",
       "    }\n",
       "\n",
       "    .dataframe tbody tr th {\n",
       "        vertical-align: top;\n",
       "    }\n",
       "\n",
       "    .dataframe thead th {\n",
       "        text-align: right;\n",
       "    }\n",
       "</style>\n",
       "<table border=\"1\" class=\"dataframe\">\n",
       "  <thead>\n",
       "    <tr style=\"text-align: right;\">\n",
       "      <th></th>\n",
       "      <th>total_sales</th>\n",
       "      <th>critic_score</th>\n",
       "      <th>user_score</th>\n",
       "    </tr>\n",
       "  </thead>\n",
       "  <tbody>\n",
       "    <tr>\n",
       "      <th>total_sales</th>\n",
       "      <td>1.000000</td>\n",
       "      <td>0.416998</td>\n",
       "      <td>-0.068925</td>\n",
       "    </tr>\n",
       "    <tr>\n",
       "      <th>critic_score</th>\n",
       "      <td>0.416998</td>\n",
       "      <td>1.000000</td>\n",
       "      <td>0.472462</td>\n",
       "    </tr>\n",
       "    <tr>\n",
       "      <th>user_score</th>\n",
       "      <td>-0.068925</td>\n",
       "      <td>0.472462</td>\n",
       "      <td>1.000000</td>\n",
       "    </tr>\n",
       "  </tbody>\n",
       "</table>\n",
       "</div>"
      ],
      "text/plain": [
       "              total_sales  critic_score  user_score\n",
       "total_sales      1.000000      0.416998   -0.068925\n",
       "critic_score     0.416998      1.000000    0.472462\n",
       "user_score      -0.068925      0.472462    1.000000"
      ]
     },
     "metadata": {},
     "output_type": "display_data"
    },
    {
     "data": {
      "image/png": "[encoded data removed]",
      "text/plain": [
       "<Figure size 432x288 with 1 Axes>"
      ]
     },
     "metadata": {
      "needs_background": "light"
     },
     "output_type": "display_data"
    },
    {
     "data": {
      "image/png": "[encoded data removed]",
      "text/plain": [
       "<Figure size 432x288 with 1 Axes>"
      ]
     },
     "metadata": {
      "needs_background": "light"
     },
     "output_type": "display_data"
    },
    {
     "data": {
      "image/png": "[encoded data removed]",
      "text/plain": [
       "<Figure size 432x288 with 1 Axes>"
      ]
     },
     "metadata": {
      "needs_background": "light"
     },
     "output_type": "display_data"
    },
    {
     "data": {
      "image/png": "[encoded data removed]",
      "text/plain": [
       "<Figure size 432x288 with 1 Axes>"
      ]
     },
     "metadata": {
      "needs_background": "light"
     },
     "output_type": "display_data"
    },
    {
     "data": {
      "image/png": "[encoded data removed]",
      "text/plain": [
       "<Figure size 432x288 with 1 Axes>"
      ]
     },
     "metadata": {
      "needs_background": "light"
     },
     "output_type": "display_data"
    },
    {
     "data": {
      "image/png": "[encoded data removed]",
      "text/plain": [
       "<Figure size 432x288 with 1 Axes>"
      ]
     },
     "metadata": {
      "needs_background": "light"
     },
     "output_type": "display_data"
    }
   ],
   "source": [
    "spicok = ['3DS', 'PC', 'PS3', 'PS4', 'X360', 'XOne']\n",
    "for platform in spicok:\n",
    "    new_games.query('platform == @platform').plot(x='user_score', y='total_sales', kind='scatter', title=platform)\n",
    "    display(platform, new_games.query('platform == @platform')[['total_sales', 'critic_score', 'user_score']].corr())"
   ]
  },
  {
   "cell_type": "markdown",
   "metadata": {},
   "source": [
    "На других популярных платформах зависимость от оценок критиков такая же слабая."
   ]
  },
  {
   "cell_type": "code",
   "execution_count": 28,
   "metadata": {},
   "outputs": [
    {
     "data": {
      "text/html": [
       "<div>\n",
       "<style scoped>\n",
       "    .dataframe tbody tr th:only-of-type {\n",
       "        vertical-align: middle;\n",
       "    }\n",
       "\n",
       "    .dataframe tbody tr th {\n",
       "        vertical-align: top;\n",
       "    }\n",
       "\n",
       "    .dataframe thead th {\n",
       "        text-align: right;\n",
       "    }\n",
       "</style>\n",
       "<table border=\"1\" class=\"dataframe\">\n",
       "  <thead>\n",
       "    <tr style=\"text-align: right;\">\n",
       "      <th></th>\n",
       "      <th>total_sales</th>\n",
       "    </tr>\n",
       "    <tr>\n",
       "      <th>genre</th>\n",
       "      <th></th>\n",
       "    </tr>\n",
       "  </thead>\n",
       "  <tbody>\n",
       "    <tr>\n",
       "      <th>Action</th>\n",
       "      <td>441.12</td>\n",
       "    </tr>\n",
       "    <tr>\n",
       "      <th>Shooter</th>\n",
       "      <td>304.73</td>\n",
       "    </tr>\n",
       "    <tr>\n",
       "      <th>Role-Playing</th>\n",
       "      <td>192.80</td>\n",
       "    </tr>\n",
       "    <tr>\n",
       "      <th>Sports</th>\n",
       "      <td>181.07</td>\n",
       "    </tr>\n",
       "    <tr>\n",
       "      <th>Misc</th>\n",
       "      <td>85.04</td>\n",
       "    </tr>\n",
       "    <tr>\n",
       "      <th>Platform</th>\n",
       "      <td>61.00</td>\n",
       "    </tr>\n",
       "    <tr>\n",
       "      <th>Racing</th>\n",
       "      <td>53.50</td>\n",
       "    </tr>\n",
       "    <tr>\n",
       "      <th>Fighting</th>\n",
       "      <td>44.49</td>\n",
       "    </tr>\n",
       "    <tr>\n",
       "      <th>Simulation</th>\n",
       "      <td>35.12</td>\n",
       "    </tr>\n",
       "    <tr>\n",
       "      <th>Adventure</th>\n",
       "      <td>29.43</td>\n",
       "    </tr>\n",
       "    <tr>\n",
       "      <th>Strategy</th>\n",
       "      <td>13.34</td>\n",
       "    </tr>\n",
       "    <tr>\n",
       "      <th>Puzzle</th>\n",
       "      <td>4.89</td>\n",
       "    </tr>\n",
       "  </tbody>\n",
       "</table>\n",
       "</div>"
      ],
      "text/plain": [
       "              total_sales\n",
       "genre                    \n",
       "Action             441.12\n",
       "Shooter            304.73\n",
       "Role-Playing       192.80\n",
       "Sports             181.07\n",
       "Misc                85.04\n",
       "Platform            61.00\n",
       "Racing              53.50\n",
       "Fighting            44.49\n",
       "Simulation          35.12\n",
       "Adventure           29.43\n",
       "Strategy            13.34\n",
       "Puzzle               4.89"
      ]
     },
     "execution_count": 28,
     "metadata": {},
     "output_type": "execute_result"
    }
   ],
   "source": [
    "#Посмотрите на общее распределение игр по жанрам\n",
    "new_games.pivot_table(index='genre', values='total_sales', aggfunc='sum').sort_values(by='total_sales', ascending=False)"
   ]
  },
  {
   "cell_type": "code",
   "execution_count": 29,
   "metadata": {},
   "outputs": [
    {
     "data": {
      "text/html": [
       "<div>\n",
       "<style scoped>\n",
       "    .dataframe tbody tr th:only-of-type {\n",
       "        vertical-align: middle;\n",
       "    }\n",
       "\n",
       "    .dataframe tbody tr th {\n",
       "        vertical-align: top;\n",
       "    }\n",
       "\n",
       "    .dataframe thead th {\n",
       "        text-align: right;\n",
       "    }\n",
       "</style>\n",
       "<table border=\"1\" class=\"dataframe\">\n",
       "  <thead>\n",
       "    <tr style=\"text-align: right;\">\n",
       "      <th></th>\n",
       "      <th>total_sales</th>\n",
       "    </tr>\n",
       "    <tr>\n",
       "      <th>genre</th>\n",
       "      <th></th>\n",
       "    </tr>\n",
       "  </thead>\n",
       "  <tbody>\n",
       "    <tr>\n",
       "      <th>Shooter</th>\n",
       "      <td>0.440</td>\n",
       "    </tr>\n",
       "    <tr>\n",
       "      <th>Sports</th>\n",
       "      <td>0.240</td>\n",
       "    </tr>\n",
       "    <tr>\n",
       "      <th>Platform</th>\n",
       "      <td>0.210</td>\n",
       "    </tr>\n",
       "    <tr>\n",
       "      <th>Role-Playing</th>\n",
       "      <td>0.140</td>\n",
       "    </tr>\n",
       "    <tr>\n",
       "      <th>Racing</th>\n",
       "      <td>0.140</td>\n",
       "    </tr>\n",
       "    <tr>\n",
       "      <th>Fighting</th>\n",
       "      <td>0.130</td>\n",
       "    </tr>\n",
       "    <tr>\n",
       "      <th>Action</th>\n",
       "      <td>0.120</td>\n",
       "    </tr>\n",
       "    <tr>\n",
       "      <th>Misc</th>\n",
       "      <td>0.120</td>\n",
       "    </tr>\n",
       "    <tr>\n",
       "      <th>Simulation</th>\n",
       "      <td>0.120</td>\n",
       "    </tr>\n",
       "    <tr>\n",
       "      <th>Strategy</th>\n",
       "      <td>0.080</td>\n",
       "    </tr>\n",
       "    <tr>\n",
       "      <th>Puzzle</th>\n",
       "      <td>0.045</td>\n",
       "    </tr>\n",
       "    <tr>\n",
       "      <th>Adventure</th>\n",
       "      <td>0.030</td>\n",
       "    </tr>\n",
       "  </tbody>\n",
       "</table>\n",
       "</div>"
      ],
      "text/plain": [
       "              total_sales\n",
       "genre                    \n",
       "Shooter             0.440\n",
       "Sports              0.240\n",
       "Platform            0.210\n",
       "Role-Playing        0.140\n",
       "Racing              0.140\n",
       "Fighting            0.130\n",
       "Action              0.120\n",
       "Misc                0.120\n",
       "Simulation          0.120\n",
       "Strategy            0.080\n",
       "Puzzle              0.045\n",
       "Adventure           0.030"
      ]
     },
     "execution_count": 29,
     "metadata": {},
     "output_type": "execute_result"
    }
   ],
   "source": [
    "new_games.pivot_table(index='genre', values='total_sales', aggfunc='median').sort_values(by='total_sales', ascending=False)"
   ]
  },
  {
   "cell_type": "markdown",
   "metadata": {},
   "source": [
    "Самые популярный жанр по сумарным продажам Action, затем идет Shooter и Role-Playing. По медианным значениям это Shooter, Platform, Sports."
   ]
  },
  {
   "cell_type": "markdown",
   "metadata": {},
   "source": [
    "# Шаг 4. Составьте портрет пользователя каждого региона"
   ]
  },
  {
   "cell_type": "code",
   "execution_count": 30,
   "metadata": {},
   "outputs": [
    {
     "data": {
      "text/html": [
       "<div>\n",
       "<style scoped>\n",
       "    .dataframe tbody tr th:only-of-type {\n",
       "        vertical-align: middle;\n",
       "    }\n",
       "\n",
       "    .dataframe tbody tr th {\n",
       "        vertical-align: top;\n",
       "    }\n",
       "\n",
       "    .dataframe thead th {\n",
       "        text-align: right;\n",
       "    }\n",
       "</style>\n",
       "<table border=\"1\" class=\"dataframe\">\n",
       "  <thead>\n",
       "    <tr style=\"text-align: right;\">\n",
       "      <th></th>\n",
       "      <th>na_sales</th>\n",
       "    </tr>\n",
       "    <tr>\n",
       "      <th>platform</th>\n",
       "      <th></th>\n",
       "    </tr>\n",
       "  </thead>\n",
       "  <tbody>\n",
       "    <tr>\n",
       "      <th>X360</th>\n",
       "      <td>140.05</td>\n",
       "    </tr>\n",
       "    <tr>\n",
       "      <th>PS4</th>\n",
       "      <td>108.74</td>\n",
       "    </tr>\n",
       "    <tr>\n",
       "      <th>PS3</th>\n",
       "      <td>103.38</td>\n",
       "    </tr>\n",
       "    <tr>\n",
       "      <th>XOne</th>\n",
       "      <td>93.12</td>\n",
       "    </tr>\n",
       "    <tr>\n",
       "      <th>3DS</th>\n",
       "      <td>55.31</td>\n",
       "    </tr>\n",
       "  </tbody>\n",
       "</table>\n",
       "</div>"
      ],
      "text/plain": [
       "          na_sales\n",
       "platform          \n",
       "X360        140.05\n",
       "PS4         108.74\n",
       "PS3         103.38\n",
       "XOne         93.12\n",
       "3DS          55.31"
      ]
     },
     "execution_count": 30,
     "metadata": {},
     "output_type": "execute_result"
    }
   ],
   "source": [
    "#Самые популярные платформы (топ-5).\n",
    "sale_na_p = new_games.groupby('platform').agg({'na_sales':'sum'}).sort_values(by='na_sales', ascending=False).head()\n",
    "sale_na_p"
   ]
  },
  {
   "cell_type": "code",
   "execution_count": 31,
   "metadata": {},
   "outputs": [
    {
     "data": {
      "text/html": [
       "<div>\n",
       "<style scoped>\n",
       "    .dataframe tbody tr th:only-of-type {\n",
       "        vertical-align: middle;\n",
       "    }\n",
       "\n",
       "    .dataframe tbody tr th {\n",
       "        vertical-align: top;\n",
       "    }\n",
       "\n",
       "    .dataframe thead th {\n",
       "        text-align: right;\n",
       "    }\n",
       "</style>\n",
       "<table border=\"1\" class=\"dataframe\">\n",
       "  <thead>\n",
       "    <tr style=\"text-align: right;\">\n",
       "      <th></th>\n",
       "      <th>eu_sales</th>\n",
       "    </tr>\n",
       "    <tr>\n",
       "      <th>platform</th>\n",
       "      <th></th>\n",
       "    </tr>\n",
       "  </thead>\n",
       "  <tbody>\n",
       "    <tr>\n",
       "      <th>PS4</th>\n",
       "      <td>141.09</td>\n",
       "    </tr>\n",
       "    <tr>\n",
       "      <th>PS3</th>\n",
       "      <td>106.86</td>\n",
       "    </tr>\n",
       "    <tr>\n",
       "      <th>X360</th>\n",
       "      <td>74.52</td>\n",
       "    </tr>\n",
       "    <tr>\n",
       "      <th>XOne</th>\n",
       "      <td>51.59</td>\n",
       "    </tr>\n",
       "    <tr>\n",
       "      <th>3DS</th>\n",
       "      <td>42.64</td>\n",
       "    </tr>\n",
       "  </tbody>\n",
       "</table>\n",
       "</div>"
      ],
      "text/plain": [
       "          eu_sales\n",
       "platform          \n",
       "PS4         141.09\n",
       "PS3         106.86\n",
       "X360         74.52\n",
       "XOne         51.59\n",
       "3DS          42.64"
      ]
     },
     "execution_count": 31,
     "metadata": {},
     "output_type": "execute_result"
    }
   ],
   "source": [
    "sale_eu_p = new_games.groupby('platform').agg({'eu_sales':'sum'}).sort_values(by='eu_sales', ascending=False).head()\n",
    "sale_eu_p"
   ]
  },
  {
   "cell_type": "code",
   "execution_count": 32,
   "metadata": {
    "scrolled": true
   },
   "outputs": [
    {
     "data": {
      "text/html": [
       "<div>\n",
       "<style scoped>\n",
       "    .dataframe tbody tr th:only-of-type {\n",
       "        vertical-align: middle;\n",
       "    }\n",
       "\n",
       "    .dataframe tbody tr th {\n",
       "        vertical-align: top;\n",
       "    }\n",
       "\n",
       "    .dataframe thead th {\n",
       "        text-align: right;\n",
       "    }\n",
       "</style>\n",
       "<table border=\"1\" class=\"dataframe\">\n",
       "  <thead>\n",
       "    <tr style=\"text-align: right;\">\n",
       "      <th></th>\n",
       "      <th>jp_sales</th>\n",
       "    </tr>\n",
       "    <tr>\n",
       "      <th>platform</th>\n",
       "      <th></th>\n",
       "    </tr>\n",
       "  </thead>\n",
       "  <tbody>\n",
       "    <tr>\n",
       "      <th>3DS</th>\n",
       "      <td>87.79</td>\n",
       "    </tr>\n",
       "    <tr>\n",
       "      <th>PS3</th>\n",
       "      <td>35.29</td>\n",
       "    </tr>\n",
       "    <tr>\n",
       "      <th>PSV</th>\n",
       "      <td>21.04</td>\n",
       "    </tr>\n",
       "    <tr>\n",
       "      <th>PS4</th>\n",
       "      <td>15.96</td>\n",
       "    </tr>\n",
       "    <tr>\n",
       "      <th>WiiU</th>\n",
       "      <td>13.01</td>\n",
       "    </tr>\n",
       "  </tbody>\n",
       "</table>\n",
       "</div>"
      ],
      "text/plain": [
       "          jp_sales\n",
       "platform          \n",
       "3DS          87.79\n",
       "PS3          35.29\n",
       "PSV          21.04\n",
       "PS4          15.96\n",
       "WiiU         13.01"
      ]
     },
     "execution_count": 32,
     "metadata": {},
     "output_type": "execute_result"
    }
   ],
   "source": [
    "sale_jp_p = new_games.groupby('platform').agg({'jp_sales':'sum'}).sort_values(by='jp_sales', ascending=False).head()\n",
    "sale_jp_p"
   ]
  },
  {
   "cell_type": "code",
   "execution_count": 33,
   "metadata": {},
   "outputs": [
    {
     "data": {
      "text/plain": [
       "<AxesSubplot:xlabel='platform'>"
      ]
     },
     "execution_count": 33,
     "metadata": {},
     "output_type": "execute_result"
    },
    {
     "data": {
      "image/png": "[encoded data removed]",
      "text/plain": [
       "<Figure size 432x288 with 1 Axes>"
      ]
     },
     "metadata": {
      "needs_background": "light"
     },
     "output_type": "display_data"
    },
    {
     "data": {
      "image/png": "[encoded data removed]",
      "text/plain": [
       "<Figure size 432x288 with 1 Axes>"
      ]
     },
     "metadata": {
      "needs_background": "light"
     },
     "output_type": "display_data"
    },
    {
     "data": {
      "image/png": "[encoded data removed]",
      "text/plain": [
       "<Figure size 432x288 with 1 Axes>"
      ]
     },
     "metadata": {
      "needs_background": "light"
     },
     "output_type": "display_data"
    }
   ],
   "source": [
    "sale_jp_p.plot()\n",
    "sale_eu_p.plot()\n",
    "sale_na_p.plot()"
   ]
  },
  {
   "cell_type": "markdown",
   "metadata": {},
   "source": [
    "По графикам видно что больше всего покупают в Северной Амереке, также там самая популярная X360. В Европе PS4, а в Японии 3DS. "
   ]
  },
  {
   "cell_type": "code",
   "execution_count": 34,
   "metadata": {},
   "outputs": [
    {
     "data": {
      "text/html": [
       "<div>\n",
       "<style scoped>\n",
       "    .dataframe tbody tr th:only-of-type {\n",
       "        vertical-align: middle;\n",
       "    }\n",
       "\n",
       "    .dataframe tbody tr th {\n",
       "        vertical-align: top;\n",
       "    }\n",
       "\n",
       "    .dataframe thead th {\n",
       "        text-align: right;\n",
       "    }\n",
       "</style>\n",
       "<table border=\"1\" class=\"dataframe\">\n",
       "  <thead>\n",
       "    <tr style=\"text-align: right;\">\n",
       "      <th></th>\n",
       "      <th>na_sales</th>\n",
       "    </tr>\n",
       "    <tr>\n",
       "      <th>genre</th>\n",
       "      <th></th>\n",
       "    </tr>\n",
       "  </thead>\n",
       "  <tbody>\n",
       "    <tr>\n",
       "      <th>Action</th>\n",
       "      <td>177.84</td>\n",
       "    </tr>\n",
       "    <tr>\n",
       "      <th>Shooter</th>\n",
       "      <td>144.77</td>\n",
       "    </tr>\n",
       "    <tr>\n",
       "      <th>Sports</th>\n",
       "      <td>81.53</td>\n",
       "    </tr>\n",
       "    <tr>\n",
       "      <th>Role-Playing</th>\n",
       "      <td>64.00</td>\n",
       "    </tr>\n",
       "    <tr>\n",
       "      <th>Misc</th>\n",
       "      <td>38.19</td>\n",
       "    </tr>\n",
       "  </tbody>\n",
       "</table>\n",
       "</div>"
      ],
      "text/plain": [
       "              na_sales\n",
       "genre                 \n",
       "Action          177.84\n",
       "Shooter         144.77\n",
       "Sports           81.53\n",
       "Role-Playing     64.00\n",
       "Misc             38.19"
      ]
     },
     "execution_count": 34,
     "metadata": {},
     "output_type": "execute_result"
    }
   ],
   "source": [
    "#Самые популярные жанры (топ-5)\n",
    "sale_na_g = new_games.groupby('genre').agg({'na_sales':'sum'}).sort_values(by='na_sales', ascending=False).head()\n",
    "sale_na_g"
   ]
  },
  {
   "cell_type": "code",
   "execution_count": 35,
   "metadata": {},
   "outputs": [
    {
     "data": {
      "text/html": [
       "<div>\n",
       "<style scoped>\n",
       "    .dataframe tbody tr th:only-of-type {\n",
       "        vertical-align: middle;\n",
       "    }\n",
       "\n",
       "    .dataframe tbody tr th {\n",
       "        vertical-align: top;\n",
       "    }\n",
       "\n",
       "    .dataframe thead th {\n",
       "        text-align: right;\n",
       "    }\n",
       "</style>\n",
       "<table border=\"1\" class=\"dataframe\">\n",
       "  <thead>\n",
       "    <tr style=\"text-align: right;\">\n",
       "      <th></th>\n",
       "      <th>eu_sales</th>\n",
       "    </tr>\n",
       "    <tr>\n",
       "      <th>genre</th>\n",
       "      <th></th>\n",
       "    </tr>\n",
       "  </thead>\n",
       "  <tbody>\n",
       "    <tr>\n",
       "      <th>Action</th>\n",
       "      <td>159.34</td>\n",
       "    </tr>\n",
       "    <tr>\n",
       "      <th>Shooter</th>\n",
       "      <td>113.47</td>\n",
       "    </tr>\n",
       "    <tr>\n",
       "      <th>Sports</th>\n",
       "      <td>69.09</td>\n",
       "    </tr>\n",
       "    <tr>\n",
       "      <th>Role-Playing</th>\n",
       "      <td>48.53</td>\n",
       "    </tr>\n",
       "    <tr>\n",
       "      <th>Racing</th>\n",
       "      <td>27.29</td>\n",
       "    </tr>\n",
       "  </tbody>\n",
       "</table>\n",
       "</div>"
      ],
      "text/plain": [
       "              eu_sales\n",
       "genre                 \n",
       "Action          159.34\n",
       "Shooter         113.47\n",
       "Sports           69.09\n",
       "Role-Playing     48.53\n",
       "Racing           27.29"
      ]
     },
     "execution_count": 35,
     "metadata": {},
     "output_type": "execute_result"
    }
   ],
   "source": [
    "sale_eu_g = new_games.groupby('genre').agg({'eu_sales':'sum'}).sort_values(by='eu_sales', ascending=False).head()\n",
    "sale_eu_g"
   ]
  },
  {
   "cell_type": "code",
   "execution_count": 36,
   "metadata": {},
   "outputs": [
    {
     "data": {
      "text/html": [
       "<div>\n",
       "<style scoped>\n",
       "    .dataframe tbody tr th:only-of-type {\n",
       "        vertical-align: middle;\n",
       "    }\n",
       "\n",
       "    .dataframe tbody tr th {\n",
       "        vertical-align: top;\n",
       "    }\n",
       "\n",
       "    .dataframe thead th {\n",
       "        text-align: right;\n",
       "    }\n",
       "</style>\n",
       "<table border=\"1\" class=\"dataframe\">\n",
       "  <thead>\n",
       "    <tr style=\"text-align: right;\">\n",
       "      <th></th>\n",
       "      <th>jp_sales</th>\n",
       "    </tr>\n",
       "    <tr>\n",
       "      <th>genre</th>\n",
       "      <th></th>\n",
       "    </tr>\n",
       "  </thead>\n",
       "  <tbody>\n",
       "    <tr>\n",
       "      <th>Role-Playing</th>\n",
       "      <td>65.44</td>\n",
       "    </tr>\n",
       "    <tr>\n",
       "      <th>Action</th>\n",
       "      <td>52.80</td>\n",
       "    </tr>\n",
       "    <tr>\n",
       "      <th>Misc</th>\n",
       "      <td>12.86</td>\n",
       "    </tr>\n",
       "    <tr>\n",
       "      <th>Simulation</th>\n",
       "      <td>10.41</td>\n",
       "    </tr>\n",
       "    <tr>\n",
       "      <th>Fighting</th>\n",
       "      <td>9.44</td>\n",
       "    </tr>\n",
       "  </tbody>\n",
       "</table>\n",
       "</div>"
      ],
      "text/plain": [
       "              jp_sales\n",
       "genre                 \n",
       "Role-Playing     65.44\n",
       "Action           52.80\n",
       "Misc             12.86\n",
       "Simulation       10.41\n",
       "Fighting          9.44"
      ]
     },
     "execution_count": 36,
     "metadata": {},
     "output_type": "execute_result"
    }
   ],
   "source": [
    "sale_jp_g = new_games.groupby('genre').agg({'jp_sales':'sum'}).sort_values(by='jp_sales', ascending=False).head()\n",
    "sale_jp_g"
   ]
  },
  {
   "cell_type": "markdown",
   "metadata": {},
   "source": [
    "В Европе и Северной Амереки популярные жанры срвподают. В Японии самый популярный жанр Role-Playing."
   ]
  },
  {
   "cell_type": "code",
   "execution_count": 37,
   "metadata": {},
   "outputs": [],
   "source": [
    "import warnings\n",
    "warnings.filterwarnings(\"ignore\")\n",
    "#рейтинг ESRB,заменим пропущенные значения\n",
    "new_games['rating'] = new_games['rating'].replace(np.NaN, 'без рейтинга')"
   ]
  },
  {
   "cell_type": "code",
   "execution_count": 38,
   "metadata": {},
   "outputs": [
    {
     "data": {
      "text/plain": [
       "array(['M', 'без рейтинга', 'E', 'E10+', 'T'], dtype=object)"
      ]
     },
     "execution_count": 38,
     "metadata": {},
     "output_type": "execute_result"
    }
   ],
   "source": [
    "new_games['rating'].unique()"
   ]
  },
  {
   "cell_type": "code",
   "execution_count": 39,
   "metadata": {},
   "outputs": [
    {
     "data": {
      "text/html": [
       "<div>\n",
       "<style scoped>\n",
       "    .dataframe tbody tr th:only-of-type {\n",
       "        vertical-align: middle;\n",
       "    }\n",
       "\n",
       "    .dataframe tbody tr th {\n",
       "        vertical-align: top;\n",
       "    }\n",
       "\n",
       "    .dataframe thead th {\n",
       "        text-align: right;\n",
       "    }\n",
       "</style>\n",
       "<table border=\"1\" class=\"dataframe\">\n",
       "  <thead>\n",
       "    <tr style=\"text-align: right;\">\n",
       "      <th></th>\n",
       "      <th>na_sales</th>\n",
       "    </tr>\n",
       "    <tr>\n",
       "      <th>rating</th>\n",
       "      <th></th>\n",
       "    </tr>\n",
       "  </thead>\n",
       "  <tbody>\n",
       "    <tr>\n",
       "      <th>M</th>\n",
       "      <td>231.57</td>\n",
       "    </tr>\n",
       "    <tr>\n",
       "      <th>E</th>\n",
       "      <td>114.37</td>\n",
       "    </tr>\n",
       "    <tr>\n",
       "      <th>без рейтинга</th>\n",
       "      <td>103.31</td>\n",
       "    </tr>\n",
       "    <tr>\n",
       "      <th>E10+</th>\n",
       "      <td>75.70</td>\n",
       "    </tr>\n",
       "    <tr>\n",
       "      <th>T</th>\n",
       "      <td>66.02</td>\n",
       "    </tr>\n",
       "  </tbody>\n",
       "</table>\n",
       "</div>"
      ],
      "text/plain": [
       "              na_sales\n",
       "rating                \n",
       "M               231.57\n",
       "E               114.37\n",
       "без рейтинга    103.31\n",
       "E10+             75.70\n",
       "T                66.02"
      ]
     },
     "execution_count": 39,
     "metadata": {},
     "output_type": "execute_result"
    }
   ],
   "source": [
    "sale_na_r = new_games.groupby('rating').agg({'na_sales':'sum'}).sort_values(by='na_sales', ascending=False).head(6)\n",
    "sale_na_r"
   ]
  },
  {
   "cell_type": "code",
   "execution_count": 40,
   "metadata": {},
   "outputs": [
    {
     "data": {
      "text/html": [
       "<div>\n",
       "<style scoped>\n",
       "    .dataframe tbody tr th:only-of-type {\n",
       "        vertical-align: middle;\n",
       "    }\n",
       "\n",
       "    .dataframe tbody tr th {\n",
       "        vertical-align: top;\n",
       "    }\n",
       "\n",
       "    .dataframe thead th {\n",
       "        text-align: right;\n",
       "    }\n",
       "</style>\n",
       "<table border=\"1\" class=\"dataframe\">\n",
       "  <thead>\n",
       "    <tr style=\"text-align: right;\">\n",
       "      <th></th>\n",
       "      <th>eu_sales</th>\n",
       "    </tr>\n",
       "    <tr>\n",
       "      <th>rating</th>\n",
       "      <th></th>\n",
       "    </tr>\n",
       "  </thead>\n",
       "  <tbody>\n",
       "    <tr>\n",
       "      <th>M</th>\n",
       "      <td>193.96</td>\n",
       "    </tr>\n",
       "    <tr>\n",
       "      <th>E</th>\n",
       "      <td>113.03</td>\n",
       "    </tr>\n",
       "    <tr>\n",
       "      <th>без рейтинга</th>\n",
       "      <td>91.50</td>\n",
       "    </tr>\n",
       "    <tr>\n",
       "      <th>E10+</th>\n",
       "      <td>55.37</td>\n",
       "    </tr>\n",
       "    <tr>\n",
       "      <th>T</th>\n",
       "      <td>52.96</td>\n",
       "    </tr>\n",
       "  </tbody>\n",
       "</table>\n",
       "</div>"
      ],
      "text/plain": [
       "              eu_sales\n",
       "rating                \n",
       "M               193.96\n",
       "E               113.03\n",
       "без рейтинга     91.50\n",
       "E10+             55.37\n",
       "T                52.96"
      ]
     },
     "execution_count": 40,
     "metadata": {},
     "output_type": "execute_result"
    }
   ],
   "source": [
    "sale_eu_r = new_games.groupby('rating').agg({'eu_sales':'sum'}).sort_values(by='eu_sales', ascending=False).head()\n",
    "sale_eu_r"
   ]
  },
  {
   "cell_type": "code",
   "execution_count": 41,
   "metadata": {},
   "outputs": [
    {
     "data": {
      "text/html": [
       "<div>\n",
       "<style scoped>\n",
       "    .dataframe tbody tr th:only-of-type {\n",
       "        vertical-align: middle;\n",
       "    }\n",
       "\n",
       "    .dataframe tbody tr th {\n",
       "        vertical-align: top;\n",
       "    }\n",
       "\n",
       "    .dataframe thead th {\n",
       "        text-align: right;\n",
       "    }\n",
       "</style>\n",
       "<table border=\"1\" class=\"dataframe\">\n",
       "  <thead>\n",
       "    <tr style=\"text-align: right;\">\n",
       "      <th></th>\n",
       "      <th>jp_sales</th>\n",
       "    </tr>\n",
       "    <tr>\n",
       "      <th>rating</th>\n",
       "      <th></th>\n",
       "    </tr>\n",
       "  </thead>\n",
       "  <tbody>\n",
       "    <tr>\n",
       "      <th>без рейтинга</th>\n",
       "      <td>108.84</td>\n",
       "    </tr>\n",
       "    <tr>\n",
       "      <th>E</th>\n",
       "      <td>28.33</td>\n",
       "    </tr>\n",
       "    <tr>\n",
       "      <th>T</th>\n",
       "      <td>26.02</td>\n",
       "    </tr>\n",
       "    <tr>\n",
       "      <th>M</th>\n",
       "      <td>21.20</td>\n",
       "    </tr>\n",
       "    <tr>\n",
       "      <th>E10+</th>\n",
       "      <td>8.19</td>\n",
       "    </tr>\n",
       "  </tbody>\n",
       "</table>\n",
       "</div>"
      ],
      "text/plain": [
       "              jp_sales\n",
       "rating                \n",
       "без рейтинга    108.84\n",
       "E                28.33\n",
       "T                26.02\n",
       "M                21.20\n",
       "E10+              8.19"
      ]
     },
     "execution_count": 41,
     "metadata": {},
     "output_type": "execute_result"
    }
   ],
   "source": [
    "sale_jp_r = new_games.groupby('rating').agg({'jp_sales':'sum'}).sort_values(by='jp_sales', ascending=False).head()\n",
    "sale_jp_r"
   ]
  },
  {
   "cell_type": "code",
   "execution_count": 42,
   "metadata": {},
   "outputs": [
    {
     "name": "stdout",
     "output_type": "stream",
     "text": [
      "0 0.0\n"
     ]
    },
    {
     "data": {
      "text/plain": [
       "без рейтинга    1275\n",
       "M                498\n",
       "T                412\n",
       "E                395\n",
       "E10+             306\n",
       "Name: rating, dtype: int64"
      ]
     },
     "execution_count": 42,
     "metadata": {},
     "output_type": "execute_result"
    }
   ],
   "source": [
    "temp = new_games.copy()\n",
    "print(temp.rating.isna().sum(), temp.rating.isna().sum()/len(temp))\n",
    "temp.rating.value_counts()"
   ]
  },
  {
   "cell_type": "markdown",
   "metadata": {},
   "source": [
    "Можно заметить что продажи от рейтинга зависят, в Европе и Северной Амереке распределение продаж по рейтенгу совпадает. В Японии координально отличяется, так как там скорее всего своя класификация, и это видно по продажам игр без рейтинга."
   ]
  },
  {
   "cell_type": "markdown",
   "metadata": {},
   "source": [
    "# Шаг 5. Проверьте гипотезы"
   ]
  },
  {
   "cell_type": "markdown",
   "metadata": {},
   "source": [
    "Проверка первой гипотезы.\n",
    "Сформулируем нулевую гепотезу и альтернативную. H0 всегда формулируется так,чтобы использовать знак равенства.\n",
    "Поэтому нулевая гипотеза звучит так:средние пользовательские рейтинги платформ Xbox One и PC равны.\n",
    "Альтернативная: средние пользовательские рейтинги платформ Xbox One и PC различаются."
   ]
  },
  {
   "cell_type": "code",
   "execution_count": 43,
   "metadata": {},
   "outputs": [],
   "source": [
    "XOne = new_games[new_games['platform']=='XOne']['user_score'].dropna()\n",
    "PC = new_games[new_games['platform']=='PC']['user_score'].dropna()"
   ]
  },
  {
   "cell_type": "markdown",
   "metadata": {},
   "source": [
    "Для проверки гипотезы о равенстве среднего двухгенеральных совокупностей по взятым из них выборкам, применяется метод scipy.stats.ttest_ind(), так что воспользуемся им."
   ]
  },
  {
   "cell_type": "code",
   "execution_count": 44,
   "metadata": {},
   "outputs": [
    {
     "data": {
      "text/plain": [
       "0.5535080500643661"
      ]
     },
     "execution_count": 44,
     "metadata": {},
     "output_type": "execute_result"
    }
   ],
   "source": [
    "results = st.ttest_ind(XOne,PC)\n",
    "results.pvalue"
   ]
  },
  {
   "cell_type": "code",
   "execution_count": 45,
   "metadata": {},
   "outputs": [
    {
     "name": "stdout",
     "output_type": "stream",
     "text": [
      "Не получилось отвергнуть нулевую гипотезу\n"
     ]
    }
   ],
   "source": [
    "alpha = 0.05\n",
    "if (results.pvalue < alpha):\n",
    "    print('Отвергаем нулевую гипотезу')\n",
    "else:\n",
    "    print('Не получилось отвергнуть нулевую гипотезу')"
   ]
  },
  {
   "cell_type": "markdown",
   "metadata": {},
   "source": [
    "Средние пользовательские рейтинги платформ Xbox One и PC одинаковые, данные не протеворечат этой гипотезе."
   ]
  },
  {
   "cell_type": "markdown",
   "metadata": {},
   "source": [
    "Проверка второй гипотезы. Сформулируем нулевую гепотезу и альтернативную. H0 всегда формулируется так,чтобы использовать знак равенства. Поэтому нулевая гипотеза звучит так: cредние пользовательские рейтинги жанров Action (англ. «действие», экшен-игры) и Sports (англ. «спортивные соревнования») равны. Альтернативная: Средние пользовательские рейтинги жанров Action (англ. «действие», экшен-игры) и Sports (англ. «спортивные соревнования») разные."
   ]
  },
  {
   "cell_type": "code",
   "execution_count": 46,
   "metadata": {},
   "outputs": [],
   "source": [
    "Action = new_games[new_games['genre']=='Action']['user_score'].dropna()\n",
    "Sports = new_games[new_games['genre']=='Sports']['user_score'].dropna()"
   ]
  },
  {
   "cell_type": "code",
   "execution_count": 47,
   "metadata": {},
   "outputs": [
    {
     "data": {
      "text/plain": [
       "3.7163089460934874e-26"
      ]
     },
     "execution_count": 47,
     "metadata": {},
     "output_type": "execute_result"
    }
   ],
   "source": [
    "results1 = st.ttest_ind(Action,Sports)\n",
    "results1.pvalue"
   ]
  },
  {
   "cell_type": "code",
   "execution_count": 48,
   "metadata": {},
   "outputs": [
    {
     "name": "stdout",
     "output_type": "stream",
     "text": [
      "Отвергаем нулевую гипотезу\n"
     ]
    }
   ],
   "source": [
    "if (results1.pvalue < alpha):\n",
    "    print('Отвергаем нулевую гипотезу')\n",
    "else:\n",
    "    print('Не получилось отвергнуть нулевую гипотезу')"
   ]
  },
  {
   "cell_type": "markdown",
   "metadata": {},
   "source": [
    "Средние пользовательские рейтинги жанров Action (англ. «действие», экшен-игры) и Sports (англ. «спортивные соревнования») разные, данные не протеворечат этой гипотезе"
   ]
  },
  {
   "cell_type": "markdown",
   "metadata": {},
   "source": [
    "# Шаг 6. Напишите общий вывод"
   ]
  },
  {
   "cell_type": "markdown",
   "metadata": {},
   "source": [
    "В ходе работы были предобработаны данные: \n",
    "<br>\n",
    "изменены названия и типы данных столбцов где это было необходимо. \n",
    "<br>\n",
    "обработаны пропуски и созданы столбцы необходимые в дальнейшем.\n",
    "<br>\n",
    "В ходе анализа были отброшены слишком старые данные и учтен примерный жизненый цикл платформы.\n",
    "<br>\n",
    "После анализа потенциально прибыльными и на которые можно расчитывать в будущем можно платформы: PS4, XOne, 3DS  PC PS3, X360.\n",
    "<br>\n",
    "Cамые популярные жанры со стабильным спросом Shooter и Sports. А рейтинг М и Е, но надо учитывать игры произведенные в других странах и не имеющие рейтинга ESRB."
   ]
  }
 ],
 "metadata": {
  "ExecuteTimeLog": [
   {
    "duration": 1253,
    "start_time": "2022-10-05T02:35:40.326Z"
   },
   {
    "duration": 93,
    "start_time": "2022-10-05T03:29:37.927Z"
   },
   {
    "duration": 17,
    "start_time": "2022-10-05T03:30:16.072Z"
   },
   {
    "duration": 14,
    "start_time": "2022-10-05T03:30:43.663Z"
   },
   {
    "duration": 1352,
    "start_time": "2022-10-05T07:48:35.713Z"
   },
   {
    "duration": 189,
    "start_time": "2022-10-05T07:48:37.067Z"
   },
   {
    "duration": 19,
    "start_time": "2022-10-05T07:48:37.257Z"
   },
   {
    "duration": 14,
    "start_time": "2022-10-05T07:48:37.278Z"
   },
   {
    "duration": 5,
    "start_time": "2022-10-05T08:07:45.885Z"
   },
   {
    "duration": 99,
    "start_time": "2022-10-05T08:25:25.541Z"
   },
   {
    "duration": 16,
    "start_time": "2022-10-05T08:26:44.134Z"
   },
   {
    "duration": 13,
    "start_time": "2022-10-05T08:27:09.104Z"
   },
   {
    "duration": 5,
    "start_time": "2022-10-05T08:39:14.370Z"
   },
   {
    "duration": 7,
    "start_time": "2022-10-05T08:41:28.235Z"
   },
   {
    "duration": 5,
    "start_time": "2022-10-05T08:41:45.394Z"
   },
   {
    "duration": 14,
    "start_time": "2022-10-05T08:42:14.906Z"
   },
   {
    "duration": 5,
    "start_time": "2022-10-05T08:42:36.001Z"
   },
   {
    "duration": 14,
    "start_time": "2022-10-05T09:05:17.911Z"
   },
   {
    "duration": 5,
    "start_time": "2022-10-05T09:06:35.166Z"
   },
   {
    "duration": 5,
    "start_time": "2022-10-05T09:08:15.365Z"
   },
   {
    "duration": 7,
    "start_time": "2022-10-05T09:08:34.226Z"
   },
   {
    "duration": 7,
    "start_time": "2022-10-05T09:20:36.697Z"
   },
   {
    "duration": 4,
    "start_time": "2022-10-05T09:21:09.144Z"
   },
   {
    "duration": 165,
    "start_time": "2022-10-05T09:28:28.800Z"
   },
   {
    "duration": 142,
    "start_time": "2022-10-05T09:28:43.817Z"
   },
   {
    "duration": 141,
    "start_time": "2022-10-05T09:29:27.751Z"
   },
   {
    "duration": 136,
    "start_time": "2022-10-05T09:38:53.139Z"
   },
   {
    "duration": 301,
    "start_time": "2022-10-05T09:40:44.874Z"
   },
   {
    "duration": 311,
    "start_time": "2022-10-05T09:41:13.461Z"
   },
   {
    "duration": 383,
    "start_time": "2022-10-05T09:41:31.541Z"
   },
   {
    "duration": 331,
    "start_time": "2022-10-05T09:41:39.665Z"
   },
   {
    "duration": 313,
    "start_time": "2022-10-05T09:41:49.684Z"
   },
   {
    "duration": 310,
    "start_time": "2022-10-05T09:42:37.808Z"
   },
   {
    "duration": 49,
    "start_time": "2022-10-06T07:33:52.076Z"
   },
   {
    "duration": 1373,
    "start_time": "2022-10-06T07:34:05.033Z"
   },
   {
    "duration": 99,
    "start_time": "2022-10-06T07:34:06.409Z"
   },
   {
    "duration": 16,
    "start_time": "2022-10-06T07:34:06.510Z"
   },
   {
    "duration": 14,
    "start_time": "2022-10-06T07:34:06.528Z"
   },
   {
    "duration": 6,
    "start_time": "2022-10-06T07:34:06.543Z"
   },
   {
    "duration": 10,
    "start_time": "2022-10-06T07:34:06.550Z"
   },
   {
    "duration": 9,
    "start_time": "2022-10-06T07:34:06.561Z"
   },
   {
    "duration": 8,
    "start_time": "2022-10-06T07:34:06.571Z"
   },
   {
    "duration": 8,
    "start_time": "2022-10-06T07:34:06.580Z"
   },
   {
    "duration": 6,
    "start_time": "2022-10-06T07:34:06.590Z"
   },
   {
    "duration": 10,
    "start_time": "2022-10-06T07:34:06.598Z"
   },
   {
    "duration": 172,
    "start_time": "2022-10-06T07:34:06.609Z"
   },
   {
    "duration": 15,
    "start_time": "2022-10-06T07:34:06.782Z"
   },
   {
    "duration": 161,
    "start_time": "2022-10-06T07:57:29.989Z"
   },
   {
    "duration": 140,
    "start_time": "2022-10-06T08:05:37.728Z"
   },
   {
    "duration": 15,
    "start_time": "2022-10-06T08:06:53.377Z"
   },
   {
    "duration": 19,
    "start_time": "2022-10-06T08:07:47.305Z"
   },
   {
    "duration": 23,
    "start_time": "2022-10-06T08:08:24.475Z"
   },
   {
    "duration": 4,
    "start_time": "2022-10-06T08:12:58.625Z"
   },
   {
    "duration": 62,
    "start_time": "2022-10-06T08:15:38.366Z"
   },
   {
    "duration": 26,
    "start_time": "2022-10-06T08:16:44.483Z"
   },
   {
    "duration": 270,
    "start_time": "2022-10-06T08:17:25.037Z"
   },
   {
    "duration": 232,
    "start_time": "2022-10-06T08:21:58.413Z"
   },
   {
    "duration": 252,
    "start_time": "2022-10-06T08:22:05.004Z"
   },
   {
    "duration": 232,
    "start_time": "2022-10-06T08:23:17.027Z"
   },
   {
    "duration": 4,
    "start_time": "2022-10-06T08:25:45.292Z"
   },
   {
    "duration": 289,
    "start_time": "2022-10-06T08:25:48.088Z"
   },
   {
    "duration": 362,
    "start_time": "2022-10-06T08:29:27.291Z"
   },
   {
    "duration": 299,
    "start_time": "2022-10-06T08:29:48.987Z"
   },
   {
    "duration": 404,
    "start_time": "2022-10-06T08:31:58.201Z"
   },
   {
    "duration": 5,
    "start_time": "2022-10-06T08:32:22.176Z"
   },
   {
    "duration": 377,
    "start_time": "2022-10-06T08:32:25.352Z"
   },
   {
    "duration": 421,
    "start_time": "2022-10-06T08:32:31.921Z"
   },
   {
    "duration": 5,
    "start_time": "2022-10-06T08:44:38.692Z"
   },
   {
    "duration": 18,
    "start_time": "2022-10-06T08:46:05.133Z"
   },
   {
    "duration": 14,
    "start_time": "2022-10-06T09:11:03.094Z"
   },
   {
    "duration": 4,
    "start_time": "2022-10-06T09:13:37.956Z"
   },
   {
    "duration": 4,
    "start_time": "2022-10-06T09:14:14.464Z"
   },
   {
    "duration": 442,
    "start_time": "2022-10-06T09:16:37.100Z"
   },
   {
    "duration": 550,
    "start_time": "2022-10-06T09:17:11.364Z"
   },
   {
    "duration": 452,
    "start_time": "2022-10-06T09:19:13.095Z"
   },
   {
    "duration": 4,
    "start_time": "2022-10-06T10:32:48.813Z"
   },
   {
    "duration": 68,
    "start_time": "2022-10-06T10:32:48.819Z"
   },
   {
    "duration": 19,
    "start_time": "2022-10-06T10:32:48.889Z"
   },
   {
    "duration": 22,
    "start_time": "2022-10-06T10:32:48.910Z"
   },
   {
    "duration": 9,
    "start_time": "2022-10-06T10:32:48.937Z"
   },
   {
    "duration": 13,
    "start_time": "2022-10-06T10:32:48.947Z"
   },
   {
    "duration": 12,
    "start_time": "2022-10-06T10:32:48.962Z"
   },
   {
    "duration": 9,
    "start_time": "2022-10-06T10:32:48.975Z"
   },
   {
    "duration": 8,
    "start_time": "2022-10-06T10:32:48.985Z"
   },
   {
    "duration": 7,
    "start_time": "2022-10-06T10:32:48.995Z"
   },
   {
    "duration": 11,
    "start_time": "2022-10-06T10:32:49.004Z"
   },
   {
    "duration": 177,
    "start_time": "2022-10-06T10:32:49.016Z"
   },
   {
    "duration": 18,
    "start_time": "2022-10-06T10:32:49.194Z"
   },
   {
    "duration": 4,
    "start_time": "2022-10-06T10:32:49.215Z"
   },
   {
    "duration": 486,
    "start_time": "2022-10-06T10:32:49.221Z"
   },
   {
    "duration": 27,
    "start_time": "2022-10-06T10:32:49.709Z"
   },
   {
    "duration": 19,
    "start_time": "2022-10-06T10:32:49.738Z"
   },
   {
    "duration": 7,
    "start_time": "2022-10-06T10:32:49.759Z"
   },
   {
    "duration": 456,
    "start_time": "2022-10-06T10:32:49.768Z"
   },
   {
    "duration": 260,
    "start_time": "2022-10-06T10:37:29.864Z"
   },
   {
    "duration": 305,
    "start_time": "2022-10-06T10:37:43.953Z"
   },
   {
    "duration": 446,
    "start_time": "2022-10-06T10:38:36.327Z"
   },
   {
    "duration": 308,
    "start_time": "2022-10-06T10:42:18.598Z"
   },
   {
    "duration": 260,
    "start_time": "2022-10-06T10:48:04.819Z"
   },
   {
    "duration": 166,
    "start_time": "2022-10-06T10:48:42.007Z"
   },
   {
    "duration": 394,
    "start_time": "2022-10-06T10:49:13.659Z"
   },
   {
    "duration": 339,
    "start_time": "2022-10-06T10:49:51.290Z"
   },
   {
    "duration": 164,
    "start_time": "2022-10-06T10:51:50.595Z"
   },
   {
    "duration": 268,
    "start_time": "2022-10-06T11:01:53.966Z"
   },
   {
    "duration": 15,
    "start_time": "2022-10-06T11:02:50.517Z"
   },
   {
    "duration": 18,
    "start_time": "2022-10-06T11:03:15.525Z"
   },
   {
    "duration": 123,
    "start_time": "2022-10-06T11:03:50.781Z"
   },
   {
    "duration": 123,
    "start_time": "2022-10-06T11:04:00.600Z"
   },
   {
    "duration": 174,
    "start_time": "2022-10-06T11:09:51.027Z"
   },
   {
    "duration": 214,
    "start_time": "2022-10-06T11:18:33.846Z"
   },
   {
    "duration": 211,
    "start_time": "2022-10-06T11:19:19.494Z"
   },
   {
    "duration": 200,
    "start_time": "2022-10-06T11:19:44.382Z"
   },
   {
    "duration": 19,
    "start_time": "2022-10-06T11:20:18.299Z"
   },
   {
    "duration": 16,
    "start_time": "2022-10-06T11:20:29.865Z"
   },
   {
    "duration": 7,
    "start_time": "2022-10-06T11:26:50.234Z"
   },
   {
    "duration": 83,
    "start_time": "2022-10-06T11:26:50.243Z"
   },
   {
    "duration": 23,
    "start_time": "2022-10-06T11:26:50.327Z"
   },
   {
    "duration": 19,
    "start_time": "2022-10-06T11:26:50.352Z"
   },
   {
    "duration": 4,
    "start_time": "2022-10-06T11:26:50.374Z"
   },
   {
    "duration": 21,
    "start_time": "2022-10-06T11:26:50.380Z"
   },
   {
    "duration": 18,
    "start_time": "2022-10-06T11:26:50.403Z"
   },
   {
    "duration": 32,
    "start_time": "2022-10-06T11:26:50.422Z"
   },
   {
    "duration": 5,
    "start_time": "2022-10-06T11:26:50.456Z"
   },
   {
    "duration": 14,
    "start_time": "2022-10-06T11:26:50.463Z"
   },
   {
    "duration": 18,
    "start_time": "2022-10-06T11:26:50.479Z"
   },
   {
    "duration": 187,
    "start_time": "2022-10-06T11:26:50.499Z"
   },
   {
    "duration": 15,
    "start_time": "2022-10-06T11:26:50.688Z"
   },
   {
    "duration": 11,
    "start_time": "2022-10-06T11:26:50.706Z"
   },
   {
    "duration": 429,
    "start_time": "2022-10-06T11:26:50.719Z"
   },
   {
    "duration": 17,
    "start_time": "2022-10-06T11:26:51.151Z"
   },
   {
    "duration": 319,
    "start_time": "2022-10-06T11:26:51.170Z"
   },
   {
    "duration": 263,
    "start_time": "2022-10-06T11:26:51.491Z"
   },
   {
    "duration": 131,
    "start_time": "2022-10-06T11:28:13.357Z"
   },
   {
    "duration": 13,
    "start_time": "2022-10-06T11:28:52.522Z"
   },
   {
    "duration": 11,
    "start_time": "2022-10-06T11:30:01.009Z"
   },
   {
    "duration": 110,
    "start_time": "2022-10-06T11:34:10.645Z"
   },
   {
    "duration": 231,
    "start_time": "2022-10-06T11:35:54.719Z"
   },
   {
    "duration": 118,
    "start_time": "2022-10-06T11:38:21.190Z"
   },
   {
    "duration": 120,
    "start_time": "2022-10-06T11:38:47.952Z"
   },
   {
    "duration": 2,
    "start_time": "2022-10-06T11:46:39.453Z"
   },
   {
    "duration": 58,
    "start_time": "2022-10-06T11:46:39.457Z"
   },
   {
    "duration": 13,
    "start_time": "2022-10-06T11:46:39.518Z"
   },
   {
    "duration": 31,
    "start_time": "2022-10-06T11:46:39.533Z"
   },
   {
    "duration": 5,
    "start_time": "2022-10-06T11:46:39.566Z"
   },
   {
    "duration": 7,
    "start_time": "2022-10-06T11:46:39.572Z"
   },
   {
    "duration": 8,
    "start_time": "2022-10-06T11:46:39.581Z"
   },
   {
    "duration": 8,
    "start_time": "2022-10-06T11:46:39.591Z"
   },
   {
    "duration": 8,
    "start_time": "2022-10-06T11:46:39.600Z"
   },
   {
    "duration": 8,
    "start_time": "2022-10-06T11:46:39.609Z"
   },
   {
    "duration": 9,
    "start_time": "2022-10-06T11:46:39.619Z"
   },
   {
    "duration": 175,
    "start_time": "2022-10-06T11:46:39.632Z"
   },
   {
    "duration": 28,
    "start_time": "2022-10-06T11:46:39.809Z"
   },
   {
    "duration": 6,
    "start_time": "2022-10-06T11:46:39.839Z"
   },
   {
    "duration": 406,
    "start_time": "2022-10-06T11:46:39.849Z"
   },
   {
    "duration": 14,
    "start_time": "2022-10-06T11:46:40.257Z"
   },
   {
    "duration": 293,
    "start_time": "2022-10-06T11:46:40.272Z"
   },
   {
    "duration": 239,
    "start_time": "2022-10-06T11:46:40.566Z"
   },
   {
    "duration": 333,
    "start_time": "2022-10-06T11:47:26.175Z"
   },
   {
    "duration": 431,
    "start_time": "2022-10-06T11:53:41.664Z"
   },
   {
    "duration": 336,
    "start_time": "2022-10-06T11:54:04.993Z"
   },
   {
    "duration": 338,
    "start_time": "2022-10-06T11:54:21.655Z"
   },
   {
    "duration": 367,
    "start_time": "2022-10-06T11:54:30.410Z"
   },
   {
    "duration": 5,
    "start_time": "2022-10-06T11:55:21.185Z"
   },
   {
    "duration": 58,
    "start_time": "2022-10-06T11:55:21.192Z"
   },
   {
    "duration": 13,
    "start_time": "2022-10-06T11:55:21.252Z"
   },
   {
    "duration": 16,
    "start_time": "2022-10-06T11:55:21.267Z"
   },
   {
    "duration": 6,
    "start_time": "2022-10-06T11:55:21.285Z"
   },
   {
    "duration": 8,
    "start_time": "2022-10-06T11:55:21.293Z"
   },
   {
    "duration": 13,
    "start_time": "2022-10-06T11:55:21.302Z"
   },
   {
    "duration": 18,
    "start_time": "2022-10-06T11:55:21.316Z"
   },
   {
    "duration": 5,
    "start_time": "2022-10-06T11:55:21.335Z"
   },
   {
    "duration": 11,
    "start_time": "2022-10-06T11:55:21.342Z"
   },
   {
    "duration": 11,
    "start_time": "2022-10-06T11:55:21.354Z"
   },
   {
    "duration": 165,
    "start_time": "2022-10-06T11:55:21.367Z"
   },
   {
    "duration": 15,
    "start_time": "2022-10-06T11:55:21.533Z"
   },
   {
    "duration": 8,
    "start_time": "2022-10-06T11:55:21.550Z"
   },
   {
    "duration": 375,
    "start_time": "2022-10-06T11:55:21.560Z"
   },
   {
    "duration": 12,
    "start_time": "2022-10-06T11:55:21.937Z"
   },
   {
    "duration": 392,
    "start_time": "2022-10-06T11:55:21.950Z"
   },
   {
    "duration": 380,
    "start_time": "2022-10-06T11:55:22.344Z"
   },
   {
    "duration": 4,
    "start_time": "2022-10-06T11:55:54.906Z"
   },
   {
    "duration": 53,
    "start_time": "2022-10-06T11:55:54.911Z"
   },
   {
    "duration": 12,
    "start_time": "2022-10-06T11:55:54.966Z"
   },
   {
    "duration": 17,
    "start_time": "2022-10-06T11:55:54.980Z"
   },
   {
    "duration": 4,
    "start_time": "2022-10-06T11:55:54.999Z"
   },
   {
    "duration": 9,
    "start_time": "2022-10-06T11:55:55.004Z"
   },
   {
    "duration": 11,
    "start_time": "2022-10-06T11:55:55.014Z"
   },
   {
    "duration": 8,
    "start_time": "2022-10-06T11:55:55.034Z"
   },
   {
    "duration": 9,
    "start_time": "2022-10-06T11:55:55.044Z"
   },
   {
    "duration": 21,
    "start_time": "2022-10-06T11:55:55.055Z"
   },
   {
    "duration": 11,
    "start_time": "2022-10-06T11:55:55.077Z"
   },
   {
    "duration": 162,
    "start_time": "2022-10-06T11:55:55.089Z"
   },
   {
    "duration": 15,
    "start_time": "2022-10-06T11:55:55.253Z"
   },
   {
    "duration": 4,
    "start_time": "2022-10-06T11:55:55.270Z"
   },
   {
    "duration": 393,
    "start_time": "2022-10-06T11:55:55.275Z"
   },
   {
    "duration": 14,
    "start_time": "2022-10-06T11:55:55.670Z"
   },
   {
    "duration": 268,
    "start_time": "2022-10-06T11:55:55.686Z"
   },
   {
    "duration": 400,
    "start_time": "2022-10-06T11:55:55.956Z"
   },
   {
    "duration": 403,
    "start_time": "2022-10-06T11:56:14.519Z"
   },
   {
    "duration": 364,
    "start_time": "2022-10-06T12:06:57.637Z"
   },
   {
    "duration": 134,
    "start_time": "2022-10-06T12:26:44.268Z"
   },
   {
    "duration": 146,
    "start_time": "2022-10-06T12:27:05.852Z"
   },
   {
    "duration": 130,
    "start_time": "2022-10-06T12:27:45.083Z"
   },
   {
    "duration": 11,
    "start_time": "2022-10-06T12:29:57.123Z"
   },
   {
    "duration": 6,
    "start_time": "2022-10-06T12:30:48.351Z"
   },
   {
    "duration": 6,
    "start_time": "2022-10-06T12:30:55.473Z"
   },
   {
    "duration": 11,
    "start_time": "2022-10-06T12:31:00.034Z"
   },
   {
    "duration": 11,
    "start_time": "2022-10-06T12:38:32.886Z"
   },
   {
    "duration": 11,
    "start_time": "2022-10-06T12:39:12.141Z"
   },
   {
    "duration": 13,
    "start_time": "2022-10-06T12:42:30.671Z"
   },
   {
    "duration": 9,
    "start_time": "2022-10-06T13:06:00.245Z"
   },
   {
    "duration": 7,
    "start_time": "2022-10-06T13:06:19.231Z"
   },
   {
    "duration": 17,
    "start_time": "2022-10-06T13:06:29.627Z"
   },
   {
    "duration": 11,
    "start_time": "2022-10-06T13:08:21.400Z"
   },
   {
    "duration": 10,
    "start_time": "2022-10-06T13:09:49.743Z"
   },
   {
    "duration": 10,
    "start_time": "2022-10-06T13:10:35.277Z"
   },
   {
    "duration": 11,
    "start_time": "2022-10-06T13:11:39.444Z"
   },
   {
    "duration": 123,
    "start_time": "2022-10-06T13:18:00.096Z"
   },
   {
    "duration": 537,
    "start_time": "2022-10-06T13:20:56.815Z"
   },
   {
    "duration": 398,
    "start_time": "2022-10-06T13:21:34.245Z"
   },
   {
    "duration": 387,
    "start_time": "2022-10-06T13:22:10.810Z"
   },
   {
    "duration": 10,
    "start_time": "2022-10-06T13:27:39.397Z"
   },
   {
    "duration": 11,
    "start_time": "2022-10-06T13:28:03.149Z"
   },
   {
    "duration": 10,
    "start_time": "2022-10-06T13:28:08.501Z"
   },
   {
    "duration": 10,
    "start_time": "2022-10-06T13:29:09.197Z"
   },
   {
    "duration": 10,
    "start_time": "2022-10-06T13:29:12.060Z"
   },
   {
    "duration": 10,
    "start_time": "2022-10-06T13:34:40.770Z"
   },
   {
    "duration": 11,
    "start_time": "2022-10-06T13:34:46.884Z"
   },
   {
    "duration": 11,
    "start_time": "2022-10-06T13:34:49.914Z"
   },
   {
    "duration": 61,
    "start_time": "2022-10-06T14:05:05.870Z"
   },
   {
    "duration": 7,
    "start_time": "2022-10-06T14:05:12.342Z"
   },
   {
    "duration": 6,
    "start_time": "2022-10-06T14:05:19.551Z"
   },
   {
    "duration": 5,
    "start_time": "2022-10-06T14:13:37.481Z"
   },
   {
    "duration": 3,
    "start_time": "2022-10-06T14:13:40.484Z"
   },
   {
    "duration": 7,
    "start_time": "2022-10-06T14:19:54.437Z"
   },
   {
    "duration": 5,
    "start_time": "2022-10-06T14:20:43.692Z"
   },
   {
    "duration": 4,
    "start_time": "2022-10-06T14:21:09.544Z"
   },
   {
    "duration": 4,
    "start_time": "2022-10-06T14:21:43.038Z"
   },
   {
    "duration": 1303,
    "start_time": "2022-10-06T15:23:06.491Z"
   },
   {
    "duration": 110,
    "start_time": "2022-10-06T15:23:07.796Z"
   },
   {
    "duration": 32,
    "start_time": "2022-10-06T15:23:07.908Z"
   },
   {
    "duration": 17,
    "start_time": "2022-10-06T15:23:07.943Z"
   },
   {
    "duration": 6,
    "start_time": "2022-10-06T15:23:07.962Z"
   },
   {
    "duration": 16,
    "start_time": "2022-10-06T15:23:07.969Z"
   },
   {
    "duration": 30,
    "start_time": "2022-10-06T15:23:07.986Z"
   },
   {
    "duration": 19,
    "start_time": "2022-10-06T15:23:08.018Z"
   },
   {
    "duration": 13,
    "start_time": "2022-10-06T15:23:08.039Z"
   },
   {
    "duration": 10,
    "start_time": "2022-10-06T15:23:08.056Z"
   },
   {
    "duration": 12,
    "start_time": "2022-10-06T15:23:08.068Z"
   },
   {
    "duration": 169,
    "start_time": "2022-10-06T15:23:08.082Z"
   },
   {
    "duration": 21,
    "start_time": "2022-10-06T15:23:08.253Z"
   },
   {
    "duration": 8,
    "start_time": "2022-10-06T15:23:08.276Z"
   },
   {
    "duration": 541,
    "start_time": "2022-10-06T15:23:08.286Z"
   },
   {
    "duration": 13,
    "start_time": "2022-10-06T15:23:08.829Z"
   },
   {
    "duration": 273,
    "start_time": "2022-10-06T15:23:08.843Z"
   },
   {
    "duration": 388,
    "start_time": "2022-10-06T15:23:09.117Z"
   },
   {
    "duration": 132,
    "start_time": "2022-10-06T15:23:09.507Z"
   },
   {
    "duration": 135,
    "start_time": "2022-10-06T15:23:09.641Z"
   },
   {
    "duration": 11,
    "start_time": "2022-10-06T15:23:09.777Z"
   },
   {
    "duration": 24,
    "start_time": "2022-10-06T15:23:09.789Z"
   },
   {
    "duration": 20,
    "start_time": "2022-10-06T15:23:09.814Z"
   },
   {
    "duration": 14,
    "start_time": "2022-10-06T15:23:09.835Z"
   },
   {
    "duration": 10,
    "start_time": "2022-10-06T15:23:09.851Z"
   },
   {
    "duration": 16,
    "start_time": "2022-10-06T15:23:09.863Z"
   },
   {
    "duration": 24,
    "start_time": "2022-10-06T15:23:09.881Z"
   },
   {
    "duration": 505,
    "start_time": "2022-10-06T15:23:09.908Z"
   },
   {
    "duration": 12,
    "start_time": "2022-10-06T15:23:10.419Z"
   },
   {
    "duration": 11,
    "start_time": "2022-10-06T15:23:10.432Z"
   },
   {
    "duration": 12,
    "start_time": "2022-10-06T15:23:10.444Z"
   },
   {
    "duration": 10,
    "start_time": "2022-10-06T15:23:10.457Z"
   },
   {
    "duration": 34,
    "start_time": "2022-10-06T15:23:10.469Z"
   },
   {
    "duration": 15,
    "start_time": "2022-10-06T15:23:10.504Z"
   },
   {
    "duration": 10,
    "start_time": "2022-10-06T15:23:10.521Z"
   },
   {
    "duration": 12,
    "start_time": "2022-10-06T15:23:10.532Z"
   },
   {
    "duration": 21,
    "start_time": "2022-10-06T15:23:10.546Z"
   },
   {
    "duration": 10,
    "start_time": "2022-10-06T15:23:10.569Z"
   },
   {
    "duration": 6,
    "start_time": "2022-10-06T15:23:10.581Z"
   },
   {
    "duration": 7,
    "start_time": "2022-10-06T15:23:10.588Z"
   },
   {
    "duration": 74,
    "start_time": "2022-10-06T16:45:05.130Z"
   },
   {
    "duration": 9,
    "start_time": "2022-10-06T17:08:24.012Z"
   },
   {
    "duration": 1327,
    "start_time": "2022-10-07T03:15:37.159Z"
   },
   {
    "duration": 100,
    "start_time": "2022-10-07T03:15:38.488Z"
   },
   {
    "duration": 20,
    "start_time": "2022-10-07T03:15:38.590Z"
   },
   {
    "duration": 15,
    "start_time": "2022-10-07T03:15:38.612Z"
   },
   {
    "duration": 16,
    "start_time": "2022-10-07T03:15:38.629Z"
   },
   {
    "duration": 6,
    "start_time": "2022-10-07T03:15:38.654Z"
   },
   {
    "duration": 7,
    "start_time": "2022-10-07T03:15:38.662Z"
   },
   {
    "duration": 9,
    "start_time": "2022-10-07T03:15:38.671Z"
   },
   {
    "duration": 8,
    "start_time": "2022-10-07T03:15:38.682Z"
   },
   {
    "duration": 8,
    "start_time": "2022-10-07T03:15:38.693Z"
   },
   {
    "duration": 8,
    "start_time": "2022-10-07T03:15:38.703Z"
   },
   {
    "duration": 41,
    "start_time": "2022-10-07T03:15:38.713Z"
   },
   {
    "duration": 76,
    "start_time": "2022-10-07T03:15:38.756Z"
   },
   {
    "duration": 201,
    "start_time": "2022-10-07T03:15:38.835Z"
   },
   {
    "duration": 26,
    "start_time": "2022-10-07T03:15:39.038Z"
   },
   {
    "duration": 5,
    "start_time": "2022-10-07T03:15:39.066Z"
   },
   {
    "duration": 563,
    "start_time": "2022-10-07T03:15:39.073Z"
   },
   {
    "duration": 13,
    "start_time": "2022-10-07T03:15:39.639Z"
   },
   {
    "duration": 280,
    "start_time": "2022-10-07T03:15:39.654Z"
   },
   {
    "duration": 399,
    "start_time": "2022-10-07T03:15:39.935Z"
   },
   {
    "duration": 148,
    "start_time": "2022-10-07T03:15:40.336Z"
   },
   {
    "duration": 150,
    "start_time": "2022-10-07T03:15:40.487Z"
   },
   {
    "duration": 23,
    "start_time": "2022-10-07T03:15:40.639Z"
   },
   {
    "duration": 11,
    "start_time": "2022-10-07T03:15:40.665Z"
   },
   {
    "duration": 14,
    "start_time": "2022-10-07T03:15:40.677Z"
   },
   {
    "duration": 14,
    "start_time": "2022-10-07T03:15:40.693Z"
   },
   {
    "duration": 11,
    "start_time": "2022-10-07T03:15:40.708Z"
   },
   {
    "duration": 11,
    "start_time": "2022-10-07T03:15:40.756Z"
   },
   {
    "duration": 10,
    "start_time": "2022-10-07T03:15:40.769Z"
   },
   {
    "duration": 538,
    "start_time": "2022-10-07T03:15:40.780Z"
   },
   {
    "duration": 11,
    "start_time": "2022-10-07T03:15:41.320Z"
   },
   {
    "duration": 26,
    "start_time": "2022-10-07T03:15:41.333Z"
   },
   {
    "duration": 11,
    "start_time": "2022-10-07T03:15:41.360Z"
   },
   {
    "duration": 11,
    "start_time": "2022-10-07T03:15:41.373Z"
   },
   {
    "duration": 24,
    "start_time": "2022-10-07T03:15:41.386Z"
   },
   {
    "duration": 23,
    "start_time": "2022-10-07T03:15:41.412Z"
   },
   {
    "duration": 27,
    "start_time": "2022-10-07T03:15:41.437Z"
   },
   {
    "duration": 13,
    "start_time": "2022-10-07T03:15:41.467Z"
   },
   {
    "duration": 13,
    "start_time": "2022-10-07T03:15:41.482Z"
   },
   {
    "duration": 12,
    "start_time": "2022-10-07T03:15:41.497Z"
   },
   {
    "duration": 26,
    "start_time": "2022-10-07T03:15:41.511Z"
   },
   {
    "duration": 17,
    "start_time": "2022-10-07T03:15:41.539Z"
   },
   {
    "duration": 7,
    "start_time": "2022-10-07T03:15:41.558Z"
   },
   {
    "duration": 15,
    "start_time": "2022-10-07T03:16:53.875Z"
   },
   {
    "duration": 12,
    "start_time": "2022-10-07T03:44:01.213Z"
   },
   {
    "duration": 17,
    "start_time": "2022-10-07T03:44:13.107Z"
   },
   {
    "duration": 68,
    "start_time": "2022-10-07T03:45:54.949Z"
   },
   {
    "duration": 9,
    "start_time": "2022-10-07T03:50:31.340Z"
   },
   {
    "duration": 18,
    "start_time": "2022-10-07T03:51:08.790Z"
   },
   {
    "duration": 20,
    "start_time": "2022-10-07T03:57:50.664Z"
   },
   {
    "duration": 3,
    "start_time": "2022-10-07T03:58:34.821Z"
   },
   {
    "duration": 53,
    "start_time": "2022-10-07T03:58:34.827Z"
   },
   {
    "duration": 14,
    "start_time": "2022-10-07T03:58:34.882Z"
   },
   {
    "duration": 21,
    "start_time": "2022-10-07T03:58:34.898Z"
   },
   {
    "duration": 32,
    "start_time": "2022-10-07T03:58:34.922Z"
   },
   {
    "duration": 6,
    "start_time": "2022-10-07T03:58:34.955Z"
   },
   {
    "duration": 7,
    "start_time": "2022-10-07T03:58:34.963Z"
   },
   {
    "duration": 10,
    "start_time": "2022-10-07T03:58:34.972Z"
   },
   {
    "duration": 8,
    "start_time": "2022-10-07T03:58:34.983Z"
   },
   {
    "duration": 7,
    "start_time": "2022-10-07T03:58:34.993Z"
   },
   {
    "duration": 6,
    "start_time": "2022-10-07T03:58:35.003Z"
   },
   {
    "duration": 54,
    "start_time": "2022-10-07T03:58:35.011Z"
   },
   {
    "duration": 19,
    "start_time": "2022-10-07T03:58:35.067Z"
   },
   {
    "duration": 18,
    "start_time": "2022-10-07T03:58:35.087Z"
   },
   {
    "duration": 12,
    "start_time": "2022-10-07T03:58:35.107Z"
   },
   {
    "duration": 109,
    "start_time": "2022-10-07T03:58:35.121Z"
   },
   {
    "duration": 194,
    "start_time": "2022-10-07T03:58:35.233Z"
   },
   {
    "duration": 16,
    "start_time": "2022-10-07T03:58:35.429Z"
   },
   {
    "duration": 11,
    "start_time": "2022-10-07T03:58:35.446Z"
   },
   {
    "duration": 449,
    "start_time": "2022-10-07T03:58:35.459Z"
   },
   {
    "duration": 14,
    "start_time": "2022-10-07T03:58:35.910Z"
   },
   {
    "duration": 275,
    "start_time": "2022-10-07T03:58:35.926Z"
   },
   {
    "duration": 401,
    "start_time": "2022-10-07T03:58:36.203Z"
   },
   {
    "duration": 163,
    "start_time": "2022-10-07T03:58:36.606Z"
   },
   {
    "duration": 151,
    "start_time": "2022-10-07T03:58:36.771Z"
   },
   {
    "duration": 13,
    "start_time": "2022-10-07T03:58:36.924Z"
   },
   {
    "duration": 35,
    "start_time": "2022-10-07T03:58:36.938Z"
   },
   {
    "duration": 11,
    "start_time": "2022-10-07T03:58:36.975Z"
   },
   {
    "duration": 15,
    "start_time": "2022-10-07T03:58:36.990Z"
   },
   {
    "duration": 21,
    "start_time": "2022-10-07T03:58:37.007Z"
   },
   {
    "duration": 25,
    "start_time": "2022-10-07T03:58:37.030Z"
   },
   {
    "duration": 10,
    "start_time": "2022-10-07T03:58:37.057Z"
   },
   {
    "duration": 441,
    "start_time": "2022-10-07T03:58:37.069Z"
   },
   {
    "duration": 12,
    "start_time": "2022-10-07T03:58:37.511Z"
   },
   {
    "duration": 13,
    "start_time": "2022-10-07T03:58:37.524Z"
   },
   {
    "duration": 12,
    "start_time": "2022-10-07T03:58:37.554Z"
   },
   {
    "duration": 12,
    "start_time": "2022-10-07T03:58:37.568Z"
   },
   {
    "duration": 12,
    "start_time": "2022-10-07T03:58:37.582Z"
   },
   {
    "duration": 16,
    "start_time": "2022-10-07T03:58:37.595Z"
   },
   {
    "duration": 13,
    "start_time": "2022-10-07T03:58:37.613Z"
   },
   {
    "duration": 31,
    "start_time": "2022-10-07T03:58:37.627Z"
   },
   {
    "duration": 9,
    "start_time": "2022-10-07T03:58:37.660Z"
   },
   {
    "duration": 7,
    "start_time": "2022-10-07T03:58:37.671Z"
   },
   {
    "duration": 8,
    "start_time": "2022-10-07T03:58:37.680Z"
   },
   {
    "duration": 6,
    "start_time": "2022-10-07T03:58:37.689Z"
   },
   {
    "duration": 7,
    "start_time": "2022-10-07T03:58:37.696Z"
   },
   {
    "duration": 13,
    "start_time": "2022-10-07T04:00:13.765Z"
   },
   {
    "duration": 3,
    "start_time": "2022-10-07T04:01:21.128Z"
   },
   {
    "duration": 55,
    "start_time": "2022-10-07T04:01:21.133Z"
   },
   {
    "duration": 17,
    "start_time": "2022-10-07T04:01:21.190Z"
   },
   {
    "duration": 17,
    "start_time": "2022-10-07T04:01:21.209Z"
   },
   {
    "duration": 29,
    "start_time": "2022-10-07T04:01:21.228Z"
   },
   {
    "duration": 5,
    "start_time": "2022-10-07T04:01:21.259Z"
   },
   {
    "duration": 8,
    "start_time": "2022-10-07T04:01:21.266Z"
   },
   {
    "duration": 10,
    "start_time": "2022-10-07T04:01:21.276Z"
   },
   {
    "duration": 11,
    "start_time": "2022-10-07T04:01:21.288Z"
   },
   {
    "duration": 9,
    "start_time": "2022-10-07T04:01:21.301Z"
   },
   {
    "duration": 6,
    "start_time": "2022-10-07T04:01:21.314Z"
   },
   {
    "duration": 152,
    "start_time": "2022-10-07T04:01:21.355Z"
   },
   {
    "duration": 30,
    "start_time": "2022-10-07T04:01:21.509Z"
   },
   {
    "duration": 32,
    "start_time": "2022-10-07T04:01:21.541Z"
   },
   {
    "duration": 6,
    "start_time": "2022-10-07T04:01:21.576Z"
   },
   {
    "duration": 133,
    "start_time": "2022-10-07T04:01:21.585Z"
   },
   {
    "duration": 184,
    "start_time": "2022-10-07T04:01:21.720Z"
   },
   {
    "duration": 18,
    "start_time": "2022-10-07T04:01:21.905Z"
   },
   {
    "duration": 4,
    "start_time": "2022-10-07T04:01:21.925Z"
   },
   {
    "duration": 460,
    "start_time": "2022-10-07T04:01:21.931Z"
   },
   {
    "duration": 14,
    "start_time": "2022-10-07T04:01:22.394Z"
   },
   {
    "duration": 267,
    "start_time": "2022-10-07T04:01:22.410Z"
   },
   {
    "duration": 345,
    "start_time": "2022-10-07T04:01:22.679Z"
   },
   {
    "duration": 150,
    "start_time": "2022-10-07T04:01:23.025Z"
   },
   {
    "duration": 158,
    "start_time": "2022-10-07T04:01:23.176Z"
   },
   {
    "duration": 20,
    "start_time": "2022-10-07T04:01:23.335Z"
   },
   {
    "duration": 14,
    "start_time": "2022-10-07T04:01:23.357Z"
   },
   {
    "duration": 19,
    "start_time": "2022-10-07T04:01:23.373Z"
   },
   {
    "duration": 16,
    "start_time": "2022-10-07T04:01:23.396Z"
   },
   {
    "duration": 20,
    "start_time": "2022-10-07T04:01:23.414Z"
   },
   {
    "duration": 13,
    "start_time": "2022-10-07T04:01:23.453Z"
   },
   {
    "duration": 16,
    "start_time": "2022-10-07T04:01:23.468Z"
   },
   {
    "duration": 437,
    "start_time": "2022-10-07T04:01:23.486Z"
   },
   {
    "duration": 12,
    "start_time": "2022-10-07T04:01:23.925Z"
   },
   {
    "duration": 26,
    "start_time": "2022-10-07T04:01:23.938Z"
   },
   {
    "duration": 13,
    "start_time": "2022-10-07T04:01:23.966Z"
   },
   {
    "duration": 12,
    "start_time": "2022-10-07T04:01:23.981Z"
   },
   {
    "duration": 14,
    "start_time": "2022-10-07T04:01:23.995Z"
   },
   {
    "duration": 14,
    "start_time": "2022-10-07T04:01:24.010Z"
   },
   {
    "duration": 31,
    "start_time": "2022-10-07T04:01:24.026Z"
   },
   {
    "duration": 6,
    "start_time": "2022-10-07T04:01:24.059Z"
   },
   {
    "duration": 18,
    "start_time": "2022-10-07T04:01:24.067Z"
   },
   {
    "duration": 6,
    "start_time": "2022-10-07T04:01:24.086Z"
   },
   {
    "duration": 32,
    "start_time": "2022-10-07T04:01:24.094Z"
   },
   {
    "duration": 14,
    "start_time": "2022-10-07T04:01:24.128Z"
   },
   {
    "duration": 7,
    "start_time": "2022-10-07T04:01:24.144Z"
   },
   {
    "duration": 252,
    "start_time": "2022-10-07T04:03:12.280Z"
   },
   {
    "duration": 227,
    "start_time": "2022-10-07T04:03:58.510Z"
   },
   {
    "duration": 318,
    "start_time": "2022-10-07T04:04:42.720Z"
   },
   {
    "duration": 284,
    "start_time": "2022-10-07T04:04:51.509Z"
   },
   {
    "duration": 155,
    "start_time": "2022-10-07T04:06:54.543Z"
   },
   {
    "duration": 219,
    "start_time": "2022-10-07T04:09:07.601Z"
   },
   {
    "duration": 142,
    "start_time": "2022-10-07T04:12:00.453Z"
   },
   {
    "duration": 15,
    "start_time": "2022-10-07T04:12:16.686Z"
   },
   {
    "duration": 14,
    "start_time": "2022-10-07T04:12:46.842Z"
   },
   {
    "duration": 12,
    "start_time": "2022-10-07T04:13:55.445Z"
   },
   {
    "duration": 19,
    "start_time": "2022-10-07T04:15:09.060Z"
   },
   {
    "duration": 19,
    "start_time": "2022-10-07T04:15:35.221Z"
   },
   {
    "duration": 3,
    "start_time": "2022-10-07T04:15:39.491Z"
   },
   {
    "duration": 72,
    "start_time": "2022-10-07T04:15:39.496Z"
   },
   {
    "duration": 16,
    "start_time": "2022-10-07T04:15:39.569Z"
   },
   {
    "duration": 31,
    "start_time": "2022-10-07T04:15:39.587Z"
   },
   {
    "duration": 19,
    "start_time": "2022-10-07T04:15:39.621Z"
   },
   {
    "duration": 12,
    "start_time": "2022-10-07T04:15:39.642Z"
   },
   {
    "duration": 30,
    "start_time": "2022-10-07T04:15:39.656Z"
   },
   {
    "duration": 17,
    "start_time": "2022-10-07T04:15:39.688Z"
   },
   {
    "duration": 25,
    "start_time": "2022-10-07T04:15:39.707Z"
   },
   {
    "duration": 27,
    "start_time": "2022-10-07T04:15:39.734Z"
   },
   {
    "duration": 14,
    "start_time": "2022-10-07T04:15:39.764Z"
   },
   {
    "duration": 29,
    "start_time": "2022-10-07T04:15:39.779Z"
   },
   {
    "duration": 17,
    "start_time": "2022-10-07T04:15:39.810Z"
   },
   {
    "duration": 16,
    "start_time": "2022-10-07T04:15:39.829Z"
   },
   {
    "duration": 5,
    "start_time": "2022-10-07T04:15:39.853Z"
   },
   {
    "duration": 81,
    "start_time": "2022-10-07T04:15:39.860Z"
   },
   {
    "duration": 182,
    "start_time": "2022-10-07T04:15:39.943Z"
   },
   {
    "duration": 27,
    "start_time": "2022-10-07T04:15:40.127Z"
   },
   {
    "duration": 4,
    "start_time": "2022-10-07T04:15:40.156Z"
   },
   {
    "duration": 442,
    "start_time": "2022-10-07T04:15:40.162Z"
   },
   {
    "duration": 14,
    "start_time": "2022-10-07T04:15:40.605Z"
   },
   {
    "duration": 29,
    "start_time": "2022-10-07T04:15:40.622Z"
   },
   {
    "duration": 0,
    "start_time": "2022-10-07T04:15:40.654Z"
   },
   {
    "duration": 0,
    "start_time": "2022-10-07T04:15:40.655Z"
   },
   {
    "duration": 0,
    "start_time": "2022-10-07T04:15:40.657Z"
   },
   {
    "duration": 0,
    "start_time": "2022-10-07T04:15:40.659Z"
   },
   {
    "duration": 0,
    "start_time": "2022-10-07T04:15:40.660Z"
   },
   {
    "duration": 0,
    "start_time": "2022-10-07T04:15:40.662Z"
   },
   {
    "duration": 0,
    "start_time": "2022-10-07T04:15:40.663Z"
   },
   {
    "duration": 0,
    "start_time": "2022-10-07T04:15:40.665Z"
   },
   {
    "duration": 0,
    "start_time": "2022-10-07T04:15:40.666Z"
   },
   {
    "duration": 0,
    "start_time": "2022-10-07T04:15:40.667Z"
   },
   {
    "duration": 0,
    "start_time": "2022-10-07T04:15:40.668Z"
   },
   {
    "duration": 0,
    "start_time": "2022-10-07T04:15:40.670Z"
   },
   {
    "duration": 0,
    "start_time": "2022-10-07T04:15:40.671Z"
   },
   {
    "duration": 0,
    "start_time": "2022-10-07T04:15:40.673Z"
   },
   {
    "duration": 0,
    "start_time": "2022-10-07T04:15:40.674Z"
   },
   {
    "duration": 0,
    "start_time": "2022-10-07T04:15:40.675Z"
   },
   {
    "duration": 0,
    "start_time": "2022-10-07T04:15:40.677Z"
   },
   {
    "duration": 0,
    "start_time": "2022-10-07T04:15:40.678Z"
   },
   {
    "duration": 0,
    "start_time": "2022-10-07T04:15:40.680Z"
   },
   {
    "duration": 0,
    "start_time": "2022-10-07T04:15:40.681Z"
   },
   {
    "duration": 0,
    "start_time": "2022-10-07T04:15:40.683Z"
   },
   {
    "duration": 0,
    "start_time": "2022-10-07T04:15:40.684Z"
   },
   {
    "duration": 0,
    "start_time": "2022-10-07T04:15:40.685Z"
   },
   {
    "duration": 0,
    "start_time": "2022-10-07T04:15:40.687Z"
   },
   {
    "duration": 242,
    "start_time": "2022-10-07T04:16:03.813Z"
   },
   {
    "duration": 350,
    "start_time": "2022-10-07T04:17:11.092Z"
   },
   {
    "duration": 147,
    "start_time": "2022-10-07T04:17:15.841Z"
   },
   {
    "duration": 239,
    "start_time": "2022-10-07T04:17:19.092Z"
   },
   {
    "duration": 11,
    "start_time": "2022-10-07T04:17:22.941Z"
   },
   {
    "duration": 3,
    "start_time": "2022-10-07T04:17:30.395Z"
   },
   {
    "duration": 15,
    "start_time": "2022-10-07T04:17:32.751Z"
   },
   {
    "duration": 15,
    "start_time": "2022-10-07T04:17:34.823Z"
   },
   {
    "duration": 17,
    "start_time": "2022-10-07T04:17:36.642Z"
   },
   {
    "duration": 5,
    "start_time": "2022-10-07T04:17:40.939Z"
   },
   {
    "duration": 7,
    "start_time": "2022-10-07T04:17:44.972Z"
   },
   {
    "duration": 3,
    "start_time": "2022-10-07T04:17:47.433Z"
   },
   {
    "duration": 7,
    "start_time": "2022-10-07T04:17:51.117Z"
   },
   {
    "duration": 4,
    "start_time": "2022-10-07T04:17:53.994Z"
   },
   {
    "duration": 7,
    "start_time": "2022-10-07T04:17:56.057Z"
   },
   {
    "duration": 13,
    "start_time": "2022-10-07T04:17:59.794Z"
   },
   {
    "duration": 12,
    "start_time": "2022-10-07T04:18:07.740Z"
   },
   {
    "duration": 22,
    "start_time": "2022-10-07T04:18:38.641Z"
   },
   {
    "duration": 20,
    "start_time": "2022-10-07T04:18:41.361Z"
   },
   {
    "duration": 18,
    "start_time": "2022-10-07T04:20:58.117Z"
   },
   {
    "duration": 6,
    "start_time": "2022-10-07T04:21:01.010Z"
   },
   {
    "duration": 177,
    "start_time": "2022-10-07T04:21:22.275Z"
   },
   {
    "duration": 18,
    "start_time": "2022-10-07T04:21:30.614Z"
   },
   {
    "duration": 414,
    "start_time": "2022-10-07T04:21:45.502Z"
   },
   {
    "duration": 13,
    "start_time": "2022-10-07T04:21:59.098Z"
   },
   {
    "duration": 231,
    "start_time": "2022-10-07T04:22:02.986Z"
   },
   {
    "duration": 279,
    "start_time": "2022-10-07T04:22:48.993Z"
   },
   {
    "duration": 257,
    "start_time": "2022-10-07T04:23:05.914Z"
   },
   {
    "duration": 238,
    "start_time": "2022-10-07T04:23:18.218Z"
   },
   {
    "duration": 12,
    "start_time": "2022-10-07T04:23:51.273Z"
   },
   {
    "duration": 11,
    "start_time": "2022-10-07T04:24:01.298Z"
   },
   {
    "duration": 24,
    "start_time": "2022-10-07T04:24:54.796Z"
   },
   {
    "duration": 14,
    "start_time": "2022-10-07T04:25:45.987Z"
   },
   {
    "duration": 287,
    "start_time": "2022-10-07T04:25:52.272Z"
   },
   {
    "duration": 405,
    "start_time": "2022-10-07T04:26:27.610Z"
   },
   {
    "duration": 12,
    "start_time": "2022-10-07T04:29:54.935Z"
   },
   {
    "duration": 15,
    "start_time": "2022-10-07T04:30:00.488Z"
   },
   {
    "duration": 11,
    "start_time": "2022-10-07T04:31:01.375Z"
   },
   {
    "duration": 11,
    "start_time": "2022-10-07T04:31:03.870Z"
   },
   {
    "duration": 12,
    "start_time": "2022-10-07T04:31:06.507Z"
   },
   {
    "duration": 379,
    "start_time": "2022-10-07T04:31:09.616Z"
   },
   {
    "duration": 16,
    "start_time": "2022-10-07T04:31:14.664Z"
   },
   {
    "duration": 12,
    "start_time": "2022-10-07T04:31:16.591Z"
   },
   {
    "duration": 12,
    "start_time": "2022-10-07T04:31:19.023Z"
   },
   {
    "duration": 12,
    "start_time": "2022-10-07T04:31:37.085Z"
   },
   {
    "duration": 12,
    "start_time": "2022-10-07T04:31:39.173Z"
   },
   {
    "duration": 15,
    "start_time": "2022-10-07T04:31:41.790Z"
   },
   {
    "duration": 12,
    "start_time": "2022-10-07T04:31:46.926Z"
   },
   {
    "duration": 8,
    "start_time": "2022-10-07T04:32:05.095Z"
   },
   {
    "duration": 5,
    "start_time": "2022-10-07T04:32:13.653Z"
   },
   {
    "duration": 3,
    "start_time": "2022-10-07T04:32:17.200Z"
   },
   {
    "duration": 8,
    "start_time": "2022-10-07T04:32:20.512Z"
   },
   {
    "duration": 4,
    "start_time": "2022-10-07T04:32:22.790Z"
   },
   {
    "duration": 190,
    "start_time": "2022-10-07T04:41:02.629Z"
   },
   {
    "duration": 56,
    "start_time": "2022-10-07T04:41:08.477Z"
   },
   {
    "duration": 256,
    "start_time": "2022-10-07T04:45:10.069Z"
   },
   {
    "duration": 250,
    "start_time": "2022-10-07T04:45:46.209Z"
   },
   {
    "duration": 248,
    "start_time": "2022-10-07T04:45:54.394Z"
   },
   {
    "duration": 258,
    "start_time": "2022-10-07T04:46:45.516Z"
   },
   {
    "duration": 411,
    "start_time": "2022-10-07T04:47:05.324Z"
   },
   {
    "duration": 14,
    "start_time": "2022-10-07T04:47:18.015Z"
   },
   {
    "duration": 323,
    "start_time": "2022-10-07T04:47:21.234Z"
   },
   {
    "duration": 261,
    "start_time": "2022-10-07T04:47:26.123Z"
   },
   {
    "duration": 16,
    "start_time": "2022-10-07T05:23:07.175Z"
   },
   {
    "duration": 16,
    "start_time": "2022-10-07T05:23:22.407Z"
   },
   {
    "duration": 107,
    "start_time": "2022-10-07T05:40:21.185Z"
   },
   {
    "duration": 290,
    "start_time": "2022-10-07T05:51:24.696Z"
   },
   {
    "duration": 15,
    "start_time": "2022-10-07T06:13:31.457Z"
   },
   {
    "duration": 14,
    "start_time": "2022-10-07T06:14:20.968Z"
   },
   {
    "duration": 12,
    "start_time": "2022-10-07T06:19:48.544Z"
   },
   {
    "duration": 14,
    "start_time": "2022-10-07T06:20:07.055Z"
   },
   {
    "duration": 10,
    "start_time": "2022-10-07T06:23:12.974Z"
   },
   {
    "duration": 798,
    "start_time": "2022-10-07T06:23:24.456Z"
   },
   {
    "duration": 1002,
    "start_time": "2022-10-07T06:25:40.545Z"
   },
   {
    "duration": 888,
    "start_time": "2022-10-07T06:28:30.557Z"
   },
   {
    "duration": 799,
    "start_time": "2022-10-07T06:28:55.972Z"
   },
   {
    "duration": 851,
    "start_time": "2022-10-07T06:30:32.693Z"
   },
   {
    "duration": 1064,
    "start_time": "2022-10-07T06:31:01.379Z"
   },
   {
    "duration": 884,
    "start_time": "2022-10-07T06:33:40.131Z"
   },
   {
    "duration": 22,
    "start_time": "2022-10-07T06:34:31.252Z"
   },
   {
    "duration": 21,
    "start_time": "2022-10-07T06:34:33.994Z"
   },
   {
    "duration": 833,
    "start_time": "2022-10-07T06:35:50.732Z"
   },
   {
    "duration": 21,
    "start_time": "2022-10-07T06:43:38.310Z"
   },
   {
    "duration": 1106,
    "start_time": "2022-10-07T06:45:28.217Z"
   },
   {
    "duration": 916,
    "start_time": "2022-10-07T06:46:14.523Z"
   },
   {
    "duration": 16,
    "start_time": "2022-10-07T06:59:37.121Z"
   },
   {
    "duration": 13,
    "start_time": "2022-10-07T07:00:57.049Z"
   },
   {
    "duration": 114,
    "start_time": "2022-10-07T07:01:18.569Z"
   },
   {
    "duration": 9,
    "start_time": "2022-10-07T07:02:52.039Z"
   },
   {
    "duration": 262,
    "start_time": "2022-10-07T07:03:05.075Z"
   },
   {
    "duration": 295,
    "start_time": "2022-10-07T07:03:37.056Z"
   },
   {
    "duration": 286,
    "start_time": "2022-10-07T07:05:48.314Z"
   },
   {
    "duration": 16,
    "start_time": "2022-10-07T07:07:30.877Z"
   },
   {
    "duration": 5,
    "start_time": "2022-10-07T07:31:46.079Z"
   },
   {
    "duration": 7,
    "start_time": "2022-10-07T07:32:51.806Z"
   },
   {
    "duration": 6,
    "start_time": "2022-10-07T07:33:09.638Z"
   },
   {
    "duration": 7,
    "start_time": "2022-10-07T07:38:10.948Z"
   },
   {
    "duration": 5,
    "start_time": "2022-10-07T07:38:55.680Z"
   },
   {
    "duration": 4,
    "start_time": "2022-10-07T07:46:36.842Z"
   },
   {
    "duration": 6,
    "start_time": "2022-10-07T07:46:52.732Z"
   },
   {
    "duration": 6,
    "start_time": "2022-10-07T07:47:11.622Z"
   },
   {
    "duration": 5,
    "start_time": "2022-10-07T07:47:13.617Z"
   },
   {
    "duration": 6,
    "start_time": "2022-10-07T07:47:30.457Z"
   },
   {
    "duration": 6,
    "start_time": "2022-10-07T07:50:03.625Z"
   },
   {
    "duration": 13,
    "start_time": "2022-10-07T07:51:04.705Z"
   },
   {
    "duration": 13,
    "start_time": "2022-10-07T07:52:00.264Z"
   },
   {
    "duration": 14,
    "start_time": "2022-10-07T07:52:04.984Z"
   },
   {
    "duration": 12,
    "start_time": "2022-10-07T07:52:09.608Z"
   },
   {
    "duration": 3,
    "start_time": "2022-10-07T07:53:24.287Z"
   },
   {
    "duration": 10,
    "start_time": "2022-10-07T07:53:53.877Z"
   },
   {
    "duration": 1270,
    "start_time": "2022-10-07T19:16:52.128Z"
   },
   {
    "duration": 88,
    "start_time": "2022-10-07T19:16:53.400Z"
   },
   {
    "duration": 17,
    "start_time": "2022-10-07T19:16:53.490Z"
   },
   {
    "duration": 15,
    "start_time": "2022-10-07T19:16:53.509Z"
   },
   {
    "duration": 12,
    "start_time": "2022-10-07T19:16:53.526Z"
   },
   {
    "duration": 4,
    "start_time": "2022-10-07T19:16:53.540Z"
   },
   {
    "duration": 8,
    "start_time": "2022-10-07T19:16:53.545Z"
   },
   {
    "duration": 9,
    "start_time": "2022-10-07T19:16:53.555Z"
   },
   {
    "duration": 8,
    "start_time": "2022-10-07T19:16:53.566Z"
   },
   {
    "duration": 7,
    "start_time": "2022-10-07T19:16:53.575Z"
   },
   {
    "duration": 7,
    "start_time": "2022-10-07T19:16:53.583Z"
   },
   {
    "duration": 33,
    "start_time": "2022-10-07T19:16:53.591Z"
   },
   {
    "duration": 14,
    "start_time": "2022-10-07T19:16:53.625Z"
   },
   {
    "duration": 4,
    "start_time": "2022-10-07T19:16:53.642Z"
   },
   {
    "duration": 91,
    "start_time": "2022-10-07T19:16:53.647Z"
   },
   {
    "duration": 178,
    "start_time": "2022-10-07T19:16:53.740Z"
   },
   {
    "duration": 16,
    "start_time": "2022-10-07T19:16:53.920Z"
   },
   {
    "duration": 4,
    "start_time": "2022-10-07T19:16:53.937Z"
   },
   {
    "duration": 530,
    "start_time": "2022-10-07T19:16:53.942Z"
   },
   {
    "duration": 17,
    "start_time": "2022-10-07T19:16:54.475Z"
   },
   {
    "duration": 300,
    "start_time": "2022-10-07T19:16:54.494Z"
   },
   {
    "duration": 254,
    "start_time": "2022-10-07T19:16:54.796Z"
   },
   {
    "duration": 273,
    "start_time": "2022-10-07T19:16:55.052Z"
   },
   {
    "duration": 211,
    "start_time": "2022-10-07T19:16:55.327Z"
   },
   {
    "duration": 158,
    "start_time": "2022-10-07T19:16:55.540Z"
   },
   {
    "duration": 17,
    "start_time": "2022-10-07T19:16:55.699Z"
   },
   {
    "duration": 786,
    "start_time": "2022-10-07T19:16:55.718Z"
   },
   {
    "duration": 13,
    "start_time": "2022-10-07T19:16:56.509Z"
   },
   {
    "duration": 16,
    "start_time": "2022-10-07T19:16:56.524Z"
   },
   {
    "duration": 10,
    "start_time": "2022-10-07T19:16:56.542Z"
   },
   {
    "duration": 10,
    "start_time": "2022-10-07T19:16:56.553Z"
   },
   {
    "duration": 9,
    "start_time": "2022-10-07T19:16:56.565Z"
   },
   {
    "duration": 391,
    "start_time": "2022-10-07T19:16:56.576Z"
   },
   {
    "duration": 10,
    "start_time": "2022-10-07T19:16:56.968Z"
   },
   {
    "duration": 14,
    "start_time": "2022-10-07T19:16:56.979Z"
   },
   {
    "duration": 21,
    "start_time": "2022-10-07T19:16:56.994Z"
   },
   {
    "duration": 2,
    "start_time": "2022-10-07T19:16:57.017Z"
   },
   {
    "duration": 11,
    "start_time": "2022-10-07T19:16:57.020Z"
   },
   {
    "duration": 9,
    "start_time": "2022-10-07T19:16:57.032Z"
   },
   {
    "duration": 8,
    "start_time": "2022-10-07T19:16:57.043Z"
   },
   {
    "duration": 11,
    "start_time": "2022-10-07T19:16:57.054Z"
   },
   {
    "duration": 6,
    "start_time": "2022-10-07T19:16:57.067Z"
   },
   {
    "duration": 38,
    "start_time": "2022-10-07T19:16:57.074Z"
   },
   {
    "duration": 6,
    "start_time": "2022-10-07T19:16:57.114Z"
   },
   {
    "duration": 9,
    "start_time": "2022-10-07T19:16:57.122Z"
   },
   {
    "duration": 6,
    "start_time": "2022-10-07T19:16:57.133Z"
   },
   {
    "duration": 7,
    "start_time": "2022-10-07T19:16:57.140Z"
   },
   {
    "duration": 1377,
    "start_time": "2022-10-10T02:45:06.049Z"
   },
   {
    "duration": 100,
    "start_time": "2022-10-10T02:45:07.543Z"
   },
   {
    "duration": 21,
    "start_time": "2022-10-10T02:45:08.967Z"
   },
   {
    "duration": 17,
    "start_time": "2022-10-10T02:45:11.095Z"
   },
   {
    "duration": 18,
    "start_time": "2022-10-10T02:45:13.061Z"
   },
   {
    "duration": 6,
    "start_time": "2022-10-10T02:45:16.054Z"
   },
   {
    "duration": 7,
    "start_time": "2022-10-10T02:45:18.775Z"
   },
   {
    "duration": 8,
    "start_time": "2022-10-10T02:45:22.102Z"
   },
   {
    "duration": 5,
    "start_time": "2022-10-10T02:45:24.409Z"
   },
   {
    "duration": 5,
    "start_time": "2022-10-10T02:45:26.126Z"
   },
   {
    "duration": 7,
    "start_time": "2022-10-10T02:45:28.597Z"
   },
   {
    "duration": 19,
    "start_time": "2022-10-10T02:45:32.328Z"
   },
   {
    "duration": 18,
    "start_time": "2022-10-10T02:45:38.888Z"
   },
   {
    "duration": 6,
    "start_time": "2022-10-10T02:45:42.061Z"
   },
   {
    "duration": 71,
    "start_time": "2022-10-10T02:45:48.808Z"
   },
   {
    "duration": 182,
    "start_time": "2022-10-10T02:46:06.358Z"
   },
   {
    "duration": 16,
    "start_time": "2022-10-10T02:46:09.904Z"
   },
   {
    "duration": 5,
    "start_time": "2022-10-10T02:46:14.123Z"
   },
   {
    "duration": 506,
    "start_time": "2022-10-10T02:46:16.407Z"
   },
   {
    "duration": 14,
    "start_time": "2022-10-10T02:47:26.439Z"
   },
   {
    "duration": 15,
    "start_time": "2022-10-10T02:47:57.341Z"
   },
   {
    "duration": 309,
    "start_time": "2022-10-10T02:48:02.453Z"
   },
   {
    "duration": 241,
    "start_time": "2022-10-10T02:49:05.741Z"
   },
   {
    "duration": 276,
    "start_time": "2022-10-10T02:49:09.156Z"
   },
   {
    "duration": 237,
    "start_time": "2022-10-10T02:50:03.381Z"
   },
   {
    "duration": 137,
    "start_time": "2022-10-10T02:50:06.469Z"
   },
   {
    "duration": 13,
    "start_time": "2022-10-10T02:50:09.619Z"
   },
   {
    "duration": 902,
    "start_time": "2022-10-10T02:50:17.431Z"
   },
   {
    "duration": 16,
    "start_time": "2022-10-10T03:03:44.384Z"
   },
   {
    "duration": 15,
    "start_time": "2022-10-10T03:03:53.735Z"
   },
   {
    "duration": 16,
    "start_time": "2022-10-10T03:04:39.336Z"
   },
   {
    "duration": 14,
    "start_time": "2022-10-10T03:04:42.213Z"
   },
   {
    "duration": 11,
    "start_time": "2022-10-10T03:06:15.326Z"
   },
   {
    "duration": 10,
    "start_time": "2022-10-10T03:06:18.472Z"
   },
   {
    "duration": 12,
    "start_time": "2022-10-10T03:06:21.311Z"
   },
   {
    "duration": 407,
    "start_time": "2022-10-10T03:06:25.959Z"
   },
   {
    "duration": 12,
    "start_time": "2022-10-10T03:07:52.106Z"
   },
   {
    "duration": 13,
    "start_time": "2022-10-10T03:07:57.296Z"
   },
   {
    "duration": 12,
    "start_time": "2022-10-10T03:07:59.785Z"
   },
   {
    "duration": 6,
    "start_time": "2022-10-10T03:08:55.638Z"
   },
   {
    "duration": 8,
    "start_time": "2022-10-10T03:10:39.411Z"
   },
   {
    "duration": 5,
    "start_time": "2022-10-10T03:10:43.447Z"
   },
   {
    "duration": 5,
    "start_time": "2022-10-10T03:11:01.918Z"
   },
   {
    "duration": 6,
    "start_time": "2022-10-10T03:11:04.982Z"
   },
   {
    "duration": 11,
    "start_time": "2022-10-10T03:11:16.598Z"
   },
   {
    "duration": 13,
    "start_time": "2022-10-10T03:11:23.978Z"
   },
   {
    "duration": 15,
    "start_time": "2022-10-10T03:11:28.293Z"
   },
   {
    "duration": 5,
    "start_time": "2022-10-10T03:11:48.991Z"
   },
   {
    "duration": 6,
    "start_time": "2022-10-10T03:11:51.540Z"
   },
   {
    "duration": 4,
    "start_time": "2022-10-10T03:11:59.677Z"
   },
   {
    "duration": 6,
    "start_time": "2022-10-10T03:12:03.270Z"
   },
   {
    "duration": 11,
    "start_time": "2022-10-10T03:12:08.673Z"
   },
   {
    "duration": 3,
    "start_time": "2022-10-10T03:13:38.468Z"
   },
   {
    "duration": 52,
    "start_time": "2022-10-10T03:13:39.868Z"
   },
   {
    "duration": 16,
    "start_time": "2022-10-10T03:13:40.490Z"
   },
   {
    "duration": 15,
    "start_time": "2022-10-10T03:13:42.753Z"
   },
   {
    "duration": 23,
    "start_time": "2022-10-10T03:13:44.186Z"
   },
   {
    "duration": 6,
    "start_time": "2022-10-10T03:13:47.528Z"
   },
   {
    "duration": 7,
    "start_time": "2022-10-10T03:13:50.338Z"
   },
   {
    "duration": 12,
    "start_time": "2022-10-10T03:13:54.026Z"
   },
   {
    "duration": 7,
    "start_time": "2022-10-10T03:13:56.308Z"
   },
   {
    "duration": 4,
    "start_time": "2022-10-10T03:13:58.762Z"
   },
   {
    "duration": 6,
    "start_time": "2022-10-10T03:14:01.146Z"
   },
   {
    "duration": 19,
    "start_time": "2022-10-10T03:14:04.794Z"
   },
   {
    "duration": 17,
    "start_time": "2022-10-10T03:14:07.795Z"
   },
   {
    "duration": 68,
    "start_time": "2022-10-10T03:14:16.094Z"
   },
   {
    "duration": 214,
    "start_time": "2022-10-10T03:14:21.412Z"
   },
   {
    "duration": 13,
    "start_time": "2022-10-10T03:14:24.405Z"
   },
   {
    "duration": 6,
    "start_time": "2022-10-10T03:14:39.184Z"
   },
   {
    "duration": 24,
    "start_time": "2022-10-10T03:14:43.473Z"
   },
   {
    "duration": 5,
    "start_time": "2022-10-10T03:14:48.279Z"
   },
   {
    "duration": 448,
    "start_time": "2022-10-10T03:14:50.049Z"
   },
   {
    "duration": 15,
    "start_time": "2022-10-10T03:14:56.063Z"
   },
   {
    "duration": 293,
    "start_time": "2022-10-10T03:14:59.407Z"
   },
   {
    "duration": 362,
    "start_time": "2022-10-10T03:15:09.272Z"
   },
   {
    "duration": 291,
    "start_time": "2022-10-10T03:15:12.422Z"
   },
   {
    "duration": 153,
    "start_time": "2022-10-10T03:15:16.216Z"
   },
   {
    "duration": 140,
    "start_time": "2022-10-10T03:15:18.769Z"
   },
   {
    "duration": 12,
    "start_time": "2022-10-10T03:15:22.463Z"
   },
   {
    "duration": 939,
    "start_time": "2022-10-10T03:15:26.036Z"
   },
   {
    "duration": 15,
    "start_time": "2022-10-10T03:15:42.336Z"
   },
   {
    "duration": 14,
    "start_time": "2022-10-10T03:15:46.764Z"
   },
   {
    "duration": 11,
    "start_time": "2022-10-10T03:15:52.063Z"
   },
   {
    "duration": 12,
    "start_time": "2022-10-10T03:15:53.882Z"
   },
   {
    "duration": 13,
    "start_time": "2022-10-10T03:15:56.224Z"
   },
   {
    "duration": 444,
    "start_time": "2022-10-10T03:16:01.425Z"
   },
   {
    "duration": 12,
    "start_time": "2022-10-10T03:16:05.052Z"
   },
   {
    "duration": 12,
    "start_time": "2022-10-10T03:16:08.134Z"
   },
   {
    "duration": 12,
    "start_time": "2022-10-10T03:16:10.375Z"
   },
   {
    "duration": 74,
    "start_time": "2022-10-10T03:16:29.191Z"
   },
   {
    "duration": 11,
    "start_time": "2022-10-10T03:16:57.007Z"
   },
   {
    "duration": 11,
    "start_time": "2022-10-10T03:16:59.471Z"
   },
   {
    "duration": 12,
    "start_time": "2022-10-10T03:17:02.017Z"
   },
   {
    "duration": 5,
    "start_time": "2022-10-10T03:17:05.608Z"
   },
   {
    "duration": 5,
    "start_time": "2022-10-10T03:17:07.737Z"
   },
   {
    "duration": 10,
    "start_time": "2022-10-10T03:17:10.879Z"
   },
   {
    "duration": 12,
    "start_time": "2022-10-10T03:17:36.112Z"
   },
   {
    "duration": 11,
    "start_time": "2022-10-10T03:17:45.233Z"
   },
   {
    "duration": 15,
    "start_time": "2022-10-10T03:21:11.455Z"
   },
   {
    "duration": 12,
    "start_time": "2022-10-10T03:21:17.238Z"
   },
   {
    "duration": 12,
    "start_time": "2022-10-10T03:21:26.310Z"
   },
   {
    "duration": 12,
    "start_time": "2022-10-10T03:21:29.477Z"
   },
   {
    "duration": 1192,
    "start_time": "2022-10-10T03:24:03.873Z"
   },
   {
    "duration": 56,
    "start_time": "2022-10-10T03:24:05.067Z"
   },
   {
    "duration": 23,
    "start_time": "2022-10-10T03:24:05.125Z"
   },
   {
    "duration": 15,
    "start_time": "2022-10-10T03:24:05.150Z"
   },
   {
    "duration": 17,
    "start_time": "2022-10-10T03:24:05.167Z"
   },
   {
    "duration": 10,
    "start_time": "2022-10-10T03:24:05.186Z"
   },
   {
    "duration": 8,
    "start_time": "2022-10-10T03:24:05.198Z"
   },
   {
    "duration": 9,
    "start_time": "2022-10-10T03:24:05.208Z"
   },
   {
    "duration": 35,
    "start_time": "2022-10-10T03:24:05.219Z"
   },
   {
    "duration": 5,
    "start_time": "2022-10-10T03:24:05.257Z"
   },
   {
    "duration": 16,
    "start_time": "2022-10-10T03:24:05.263Z"
   },
   {
    "duration": 21,
    "start_time": "2022-10-10T03:24:05.281Z"
   },
   {
    "duration": 17,
    "start_time": "2022-10-10T03:24:05.304Z"
   },
   {
    "duration": 4,
    "start_time": "2022-10-10T03:24:05.323Z"
   },
   {
    "duration": 97,
    "start_time": "2022-10-10T03:24:05.329Z"
   },
   {
    "duration": 234,
    "start_time": "2022-10-10T03:24:05.428Z"
   },
   {
    "duration": 21,
    "start_time": "2022-10-10T03:24:05.664Z"
   },
   {
    "duration": 4,
    "start_time": "2022-10-10T03:24:05.687Z"
   },
   {
    "duration": 600,
    "start_time": "2022-10-10T03:24:05.693Z"
   },
   {
    "duration": 16,
    "start_time": "2022-10-10T03:24:06.295Z"
   },
   {
    "duration": 310,
    "start_time": "2022-10-10T03:24:06.312Z"
   },
   {
    "duration": 278,
    "start_time": "2022-10-10T03:24:06.623Z"
   },
   {
    "duration": 287,
    "start_time": "2022-10-10T03:24:06.903Z"
   },
   {
    "duration": 239,
    "start_time": "2022-10-10T03:24:07.191Z"
   },
   {
    "duration": 153,
    "start_time": "2022-10-10T03:24:07.433Z"
   },
   {
    "duration": 12,
    "start_time": "2022-10-10T03:24:07.589Z"
   },
   {
    "duration": 996,
    "start_time": "2022-10-10T03:24:07.603Z"
   },
   {
    "duration": 15,
    "start_time": "2022-10-10T03:24:08.602Z"
   },
   {
    "duration": 37,
    "start_time": "2022-10-10T03:24:08.619Z"
   },
   {
    "duration": 28,
    "start_time": "2022-10-10T03:24:08.658Z"
   },
   {
    "duration": 34,
    "start_time": "2022-10-10T03:24:08.688Z"
   },
   {
    "duration": 36,
    "start_time": "2022-10-10T03:24:08.724Z"
   },
   {
    "duration": 421,
    "start_time": "2022-10-10T03:24:08.761Z"
   },
   {
    "duration": 11,
    "start_time": "2022-10-10T03:24:09.184Z"
   },
   {
    "duration": 30,
    "start_time": "2022-10-10T03:24:09.196Z"
   },
   {
    "duration": 11,
    "start_time": "2022-10-10T03:24:09.228Z"
   },
   {
    "duration": 15,
    "start_time": "2022-10-10T03:24:09.240Z"
   },
   {
    "duration": 5,
    "start_time": "2022-10-10T03:24:09.256Z"
   },
   {
    "duration": 14,
    "start_time": "2022-10-10T03:24:09.262Z"
   },
   {
    "duration": 10,
    "start_time": "2022-10-10T03:24:09.277Z"
   },
   {
    "duration": 21,
    "start_time": "2022-10-10T03:24:09.288Z"
   },
   {
    "duration": 9,
    "start_time": "2022-10-10T03:24:09.311Z"
   },
   {
    "duration": 6,
    "start_time": "2022-10-10T03:24:09.321Z"
   },
   {
    "duration": 28,
    "start_time": "2022-10-10T03:24:09.329Z"
   },
   {
    "duration": 6,
    "start_time": "2022-10-10T03:24:09.359Z"
   },
   {
    "duration": 11,
    "start_time": "2022-10-10T03:24:09.367Z"
   },
   {
    "duration": 6,
    "start_time": "2022-10-10T03:24:09.380Z"
   },
   {
    "duration": 6,
    "start_time": "2022-10-10T03:24:09.388Z"
   },
   {
    "duration": 5,
    "start_time": "2022-10-10T03:25:11.951Z"
   },
   {
    "duration": 5,
    "start_time": "2022-10-10T03:25:57.749Z"
   },
   {
    "duration": 5,
    "start_time": "2022-10-10T03:26:16.399Z"
   },
   {
    "duration": 1134,
    "start_time": "2022-10-10T03:26:34.300Z"
   },
   {
    "duration": 53,
    "start_time": "2022-10-10T03:26:35.436Z"
   },
   {
    "duration": 21,
    "start_time": "2022-10-10T03:26:35.491Z"
   },
   {
    "duration": 23,
    "start_time": "2022-10-10T03:26:35.515Z"
   },
   {
    "duration": 22,
    "start_time": "2022-10-10T03:26:35.540Z"
   },
   {
    "duration": 5,
    "start_time": "2022-10-10T03:26:35.563Z"
   },
   {
    "duration": 12,
    "start_time": "2022-10-10T03:26:35.570Z"
   },
   {
    "duration": 14,
    "start_time": "2022-10-10T03:26:35.583Z"
   },
   {
    "duration": 9,
    "start_time": "2022-10-10T03:26:35.599Z"
   },
   {
    "duration": 6,
    "start_time": "2022-10-10T03:26:35.612Z"
   },
   {
    "duration": 8,
    "start_time": "2022-10-10T03:26:35.619Z"
   },
   {
    "duration": 19,
    "start_time": "2022-10-10T03:26:35.655Z"
   },
   {
    "duration": 16,
    "start_time": "2022-10-10T03:26:35.676Z"
   },
   {
    "duration": 5,
    "start_time": "2022-10-10T03:26:35.694Z"
   },
   {
    "duration": 114,
    "start_time": "2022-10-10T03:26:35.700Z"
   },
   {
    "duration": 204,
    "start_time": "2022-10-10T03:26:35.816Z"
   },
   {
    "duration": 17,
    "start_time": "2022-10-10T03:26:36.022Z"
   },
   {
    "duration": 15,
    "start_time": "2022-10-10T03:26:36.040Z"
   },
   {
    "duration": 532,
    "start_time": "2022-10-10T03:26:36.057Z"
   },
   {
    "duration": 14,
    "start_time": "2022-10-10T03:26:36.590Z"
   },
   {
    "duration": 299,
    "start_time": "2022-10-10T03:26:36.606Z"
   },
   {
    "duration": 263,
    "start_time": "2022-10-10T03:26:36.906Z"
   },
   {
    "duration": 280,
    "start_time": "2022-10-10T03:26:37.170Z"
   },
   {
    "duration": 237,
    "start_time": "2022-10-10T03:26:37.454Z"
   },
   {
    "duration": 137,
    "start_time": "2022-10-10T03:26:37.693Z"
   },
   {
    "duration": 24,
    "start_time": "2022-10-10T03:26:37.832Z"
   },
   {
    "duration": 902,
    "start_time": "2022-10-10T03:26:37.858Z"
   },
   {
    "duration": 15,
    "start_time": "2022-10-10T03:26:38.764Z"
   },
   {
    "duration": 15,
    "start_time": "2022-10-10T03:26:38.780Z"
   },
   {
    "duration": 12,
    "start_time": "2022-10-10T03:26:38.796Z"
   },
   {
    "duration": 10,
    "start_time": "2022-10-10T03:26:38.810Z"
   },
   {
    "duration": 37,
    "start_time": "2022-10-10T03:26:38.821Z"
   },
   {
    "duration": 393,
    "start_time": "2022-10-10T03:26:38.861Z"
   },
   {
    "duration": 11,
    "start_time": "2022-10-10T03:26:39.256Z"
   },
   {
    "duration": 13,
    "start_time": "2022-10-10T03:26:39.268Z"
   },
   {
    "duration": 16,
    "start_time": "2022-10-10T03:26:39.282Z"
   },
   {
    "duration": 11,
    "start_time": "2022-10-10T03:26:39.300Z"
   },
   {
    "duration": 6,
    "start_time": "2022-10-10T03:26:39.313Z"
   },
   {
    "duration": 40,
    "start_time": "2022-10-10T03:26:39.320Z"
   },
   {
    "duration": 11,
    "start_time": "2022-10-10T03:26:39.362Z"
   },
   {
    "duration": 10,
    "start_time": "2022-10-10T03:26:39.375Z"
   },
   {
    "duration": 8,
    "start_time": "2022-10-10T03:26:39.386Z"
   },
   {
    "duration": 6,
    "start_time": "2022-10-10T03:26:39.396Z"
   },
   {
    "duration": 6,
    "start_time": "2022-10-10T03:26:39.404Z"
   },
   {
    "duration": 42,
    "start_time": "2022-10-10T03:26:39.411Z"
   },
   {
    "duration": 7,
    "start_time": "2022-10-10T03:26:39.455Z"
   },
   {
    "duration": 5,
    "start_time": "2022-10-10T03:26:39.463Z"
   },
   {
    "duration": 4,
    "start_time": "2022-10-10T03:26:39.470Z"
   },
   {
    "duration": 8,
    "start_time": "2022-10-10T03:30:06.039Z"
   },
   {
    "duration": 5,
    "start_time": "2022-10-10T03:30:08.809Z"
   },
   {
    "duration": 5,
    "start_time": "2022-10-10T03:30:11.355Z"
   },
   {
    "duration": 7,
    "start_time": "2022-10-10T03:30:14.565Z"
   },
   {
    "duration": 6,
    "start_time": "2022-10-10T03:30:15.902Z"
   },
   {
    "duration": 5,
    "start_time": "2022-10-10T03:30:17.790Z"
   },
   {
    "duration": 1282,
    "start_time": "2022-10-10T11:42:43.726Z"
   },
   {
    "duration": 187,
    "start_time": "2022-10-10T11:42:45.010Z"
   },
   {
    "duration": 18,
    "start_time": "2022-10-10T11:42:45.199Z"
   },
   {
    "duration": 31,
    "start_time": "2022-10-10T11:42:45.218Z"
   },
   {
    "duration": 20,
    "start_time": "2022-10-10T11:42:45.251Z"
   },
   {
    "duration": 21,
    "start_time": "2022-10-10T11:42:45.273Z"
   },
   {
    "duration": 10,
    "start_time": "2022-10-10T11:42:45.296Z"
   },
   {
    "duration": 28,
    "start_time": "2022-10-10T11:42:45.308Z"
   },
   {
    "duration": 17,
    "start_time": "2022-10-10T11:42:45.338Z"
   },
   {
    "duration": 26,
    "start_time": "2022-10-10T11:42:45.357Z"
   },
   {
    "duration": 35,
    "start_time": "2022-10-10T11:42:45.384Z"
   },
   {
    "duration": 29,
    "start_time": "2022-10-10T11:42:45.421Z"
   },
   {
    "duration": 24,
    "start_time": "2022-10-10T11:42:45.452Z"
   },
   {
    "duration": 22,
    "start_time": "2022-10-10T11:42:45.479Z"
   },
   {
    "duration": 84,
    "start_time": "2022-10-10T11:42:45.503Z"
   },
   {
    "duration": 176,
    "start_time": "2022-10-10T11:42:45.589Z"
   },
   {
    "duration": 20,
    "start_time": "2022-10-10T11:42:45.766Z"
   },
   {
    "duration": 5,
    "start_time": "2022-10-10T11:42:45.787Z"
   },
   {
    "duration": 595,
    "start_time": "2022-10-10T11:42:45.793Z"
   },
   {
    "duration": 13,
    "start_time": "2022-10-10T11:42:46.390Z"
   },
   {
    "duration": 305,
    "start_time": "2022-10-10T11:42:46.404Z"
   },
   {
    "duration": 255,
    "start_time": "2022-10-10T11:42:46.711Z"
   },
   {
    "duration": 336,
    "start_time": "2022-10-10T11:42:46.968Z"
   },
   {
    "duration": 237,
    "start_time": "2022-10-10T11:42:47.305Z"
   },
   {
    "duration": 135,
    "start_time": "2022-10-10T11:42:47.543Z"
   },
   {
    "duration": 11,
    "start_time": "2022-10-10T11:42:47.680Z"
   },
   {
    "duration": 910,
    "start_time": "2022-10-10T11:42:47.692Z"
   },
   {
    "duration": 25,
    "start_time": "2022-10-10T11:42:48.603Z"
   },
   {
    "duration": 15,
    "start_time": "2022-10-10T11:42:48.630Z"
   },
   {
    "duration": 13,
    "start_time": "2022-10-10T11:42:48.647Z"
   },
   {
    "duration": 16,
    "start_time": "2022-10-10T11:42:48.661Z"
   },
   {
    "duration": 12,
    "start_time": "2022-10-10T11:42:48.678Z"
   },
   {
    "duration": 380,
    "start_time": "2022-10-10T11:42:48.692Z"
   },
   {
    "duration": 10,
    "start_time": "2022-10-10T11:42:49.074Z"
   },
   {
    "duration": 17,
    "start_time": "2022-10-10T11:42:49.086Z"
   },
   {
    "duration": 27,
    "start_time": "2022-10-10T11:42:49.105Z"
   },
   {
    "duration": 11,
    "start_time": "2022-10-10T11:42:49.134Z"
   },
   {
    "duration": 9,
    "start_time": "2022-10-10T11:42:49.147Z"
   },
   {
    "duration": 17,
    "start_time": "2022-10-10T11:42:49.158Z"
   },
   {
    "duration": 13,
    "start_time": "2022-10-10T11:42:49.177Z"
   },
   {
    "duration": 31,
    "start_time": "2022-10-10T11:42:49.195Z"
   },
   {
    "duration": 9,
    "start_time": "2022-10-10T11:42:49.228Z"
   },
   {
    "duration": 7,
    "start_time": "2022-10-10T11:42:49.239Z"
   },
   {
    "duration": 4,
    "start_time": "2022-10-10T11:42:49.248Z"
   },
   {
    "duration": 5,
    "start_time": "2022-10-10T11:42:49.253Z"
   },
   {
    "duration": 16,
    "start_time": "2022-10-10T11:42:49.259Z"
   },
   {
    "duration": 5,
    "start_time": "2022-10-10T11:42:49.277Z"
   },
   {
    "duration": 5,
    "start_time": "2022-10-10T11:42:49.283Z"
   },
   {
    "duration": 1260,
    "start_time": "2022-10-10T15:53:45.221Z"
   },
   {
    "duration": 48,
    "start_time": "2022-10-10T15:53:46.483Z"
   },
   {
    "duration": 39,
    "start_time": "2022-10-10T15:53:46.533Z"
   },
   {
    "duration": 40,
    "start_time": "2022-10-10T15:53:46.574Z"
   },
   {
    "duration": 80,
    "start_time": "2022-10-10T15:53:46.616Z"
   },
   {
    "duration": 35,
    "start_time": "2022-10-10T15:53:46.697Z"
   },
   {
    "duration": 28,
    "start_time": "2022-10-10T15:53:46.734Z"
   },
   {
    "duration": 42,
    "start_time": "2022-10-10T15:53:46.764Z"
   },
   {
    "duration": 32,
    "start_time": "2022-10-10T15:53:46.808Z"
   },
   {
    "duration": 45,
    "start_time": "2022-10-10T15:53:46.841Z"
   },
   {
    "duration": 54,
    "start_time": "2022-10-10T15:53:46.888Z"
   },
   {
    "duration": 31,
    "start_time": "2022-10-10T15:53:46.943Z"
   },
   {
    "duration": 29,
    "start_time": "2022-10-10T15:53:46.976Z"
   },
   {
    "duration": 8,
    "start_time": "2022-10-10T15:53:47.008Z"
   },
   {
    "duration": 93,
    "start_time": "2022-10-10T15:53:47.018Z"
   },
   {
    "duration": 152,
    "start_time": "2022-10-10T15:53:47.113Z"
   },
   {
    "duration": 19,
    "start_time": "2022-10-10T15:53:47.266Z"
   },
   {
    "duration": 31,
    "start_time": "2022-10-10T15:53:47.287Z"
   },
   {
    "duration": 481,
    "start_time": "2022-10-10T15:53:47.319Z"
   },
   {
    "duration": 14,
    "start_time": "2022-10-10T15:53:47.802Z"
   },
   {
    "duration": 294,
    "start_time": "2022-10-10T15:53:47.817Z"
   },
   {
    "duration": 245,
    "start_time": "2022-10-10T15:53:48.113Z"
   },
   {
    "duration": 252,
    "start_time": "2022-10-10T15:53:48.360Z"
   },
   {
    "duration": 199,
    "start_time": "2022-10-10T15:53:48.614Z"
   },
   {
    "duration": 132,
    "start_time": "2022-10-10T15:53:48.815Z"
   },
   {
    "duration": 12,
    "start_time": "2022-10-10T15:53:48.949Z"
   },
   {
    "duration": 941,
    "start_time": "2022-10-10T15:53:48.963Z"
   },
   {
    "duration": 23,
    "start_time": "2022-10-10T15:53:49.905Z"
   },
   {
    "duration": 51,
    "start_time": "2022-10-10T15:53:49.929Z"
   },
   {
    "duration": 41,
    "start_time": "2022-10-10T15:53:49.982Z"
   },
   {
    "duration": 48,
    "start_time": "2022-10-10T15:53:50.024Z"
   },
   {
    "duration": 40,
    "start_time": "2022-10-10T15:53:50.073Z"
   },
   {
    "duration": 449,
    "start_time": "2022-10-10T15:53:50.115Z"
   },
   {
    "duration": 11,
    "start_time": "2022-10-10T15:53:50.566Z"
   },
   {
    "duration": 33,
    "start_time": "2022-10-10T15:53:50.578Z"
   },
   {
    "duration": 28,
    "start_time": "2022-10-10T15:53:50.613Z"
   },
   {
    "duration": 26,
    "start_time": "2022-10-10T15:53:50.643Z"
   },
   {
    "duration": 29,
    "start_time": "2022-10-10T15:53:50.671Z"
   },
   {
    "duration": 40,
    "start_time": "2022-10-10T15:53:50.703Z"
   },
   {
    "duration": 82,
    "start_time": "2022-10-10T15:53:50.745Z"
   },
   {
    "duration": 68,
    "start_time": "2022-10-10T15:53:50.831Z"
   },
   {
    "duration": 40,
    "start_time": "2022-10-10T15:53:50.901Z"
   },
   {
    "duration": 68,
    "start_time": "2022-10-10T15:53:50.944Z"
   },
   {
    "duration": 41,
    "start_time": "2022-10-10T15:53:51.015Z"
   },
   {
    "duration": 43,
    "start_time": "2022-10-10T15:53:51.058Z"
   },
   {
    "duration": 33,
    "start_time": "2022-10-10T15:53:51.103Z"
   },
   {
    "duration": 28,
    "start_time": "2022-10-10T15:53:51.139Z"
   },
   {
    "duration": 28,
    "start_time": "2022-10-10T15:53:51.168Z"
   },
   {
    "duration": 1113,
    "start_time": "2022-10-10T17:44:50.789Z"
   },
   {
    "duration": 49,
    "start_time": "2022-10-10T17:44:51.905Z"
   },
   {
    "duration": 17,
    "start_time": "2022-10-10T17:44:51.956Z"
   },
   {
    "duration": 30,
    "start_time": "2022-10-10T17:44:51.974Z"
   },
   {
    "duration": 22,
    "start_time": "2022-10-10T17:44:52.006Z"
   },
   {
    "duration": 15,
    "start_time": "2022-10-10T17:44:52.030Z"
   },
   {
    "duration": 28,
    "start_time": "2022-10-10T17:44:52.047Z"
   },
   {
    "duration": 21,
    "start_time": "2022-10-10T17:44:52.076Z"
   },
   {
    "duration": 21,
    "start_time": "2022-10-10T17:44:52.099Z"
   },
   {
    "duration": 13,
    "start_time": "2022-10-10T17:44:52.121Z"
   },
   {
    "duration": 24,
    "start_time": "2022-10-10T17:44:52.136Z"
   },
   {
    "duration": 47,
    "start_time": "2022-10-10T17:44:52.161Z"
   },
   {
    "duration": 14,
    "start_time": "2022-10-10T17:44:52.210Z"
   },
   {
    "duration": 5,
    "start_time": "2022-10-10T17:44:52.228Z"
   },
   {
    "duration": 97,
    "start_time": "2022-10-10T17:44:52.234Z"
   },
   {
    "duration": 170,
    "start_time": "2022-10-10T17:44:52.333Z"
   },
   {
    "duration": 27,
    "start_time": "2022-10-10T17:44:52.504Z"
   },
   {
    "duration": 4,
    "start_time": "2022-10-10T17:44:52.532Z"
   },
   {
    "duration": 492,
    "start_time": "2022-10-10T17:44:52.538Z"
   },
   {
    "duration": 13,
    "start_time": "2022-10-10T17:44:53.032Z"
   },
   {
    "duration": 272,
    "start_time": "2022-10-10T17:44:53.046Z"
   },
   {
    "duration": 253,
    "start_time": "2022-10-10T17:44:53.319Z"
   },
   {
    "duration": 255,
    "start_time": "2022-10-10T17:44:53.574Z"
   },
   {
    "duration": 203,
    "start_time": "2022-10-10T17:44:53.832Z"
   },
   {
    "duration": 134,
    "start_time": "2022-10-10T17:44:54.036Z"
   },
   {
    "duration": 11,
    "start_time": "2022-10-10T17:44:54.171Z"
   },
   {
    "duration": 818,
    "start_time": "2022-10-10T17:44:54.183Z"
   },
   {
    "duration": 24,
    "start_time": "2022-10-10T17:44:55.003Z"
   },
   {
    "duration": 19,
    "start_time": "2022-10-10T17:44:55.029Z"
   },
   {
    "duration": 9,
    "start_time": "2022-10-10T17:44:55.049Z"
   },
   {
    "duration": 32,
    "start_time": "2022-10-10T17:44:55.060Z"
   },
   {
    "duration": 22,
    "start_time": "2022-10-10T17:44:55.093Z"
   },
   {
    "duration": 386,
    "start_time": "2022-10-10T17:44:55.116Z"
   },
   {
    "duration": 21,
    "start_time": "2022-10-10T17:44:55.504Z"
   },
   {
    "duration": 20,
    "start_time": "2022-10-10T17:44:55.527Z"
   },
   {
    "duration": 15,
    "start_time": "2022-10-10T17:44:55.549Z"
   },
   {
    "duration": 13,
    "start_time": "2022-10-10T17:44:55.566Z"
   },
   {
    "duration": 9,
    "start_time": "2022-10-10T17:44:55.581Z"
   },
   {
    "duration": 10,
    "start_time": "2022-10-10T17:44:55.592Z"
   },
   {
    "duration": 17,
    "start_time": "2022-10-10T17:44:55.604Z"
   },
   {
    "duration": 16,
    "start_time": "2022-10-10T17:44:55.625Z"
   },
   {
    "duration": 14,
    "start_time": "2022-10-10T17:44:55.643Z"
   },
   {
    "duration": 9,
    "start_time": "2022-10-10T17:44:55.659Z"
   },
   {
    "duration": 7,
    "start_time": "2022-10-10T17:44:55.669Z"
   },
   {
    "duration": 7,
    "start_time": "2022-10-10T17:44:55.677Z"
   },
   {
    "duration": 14,
    "start_time": "2022-10-10T17:44:55.686Z"
   },
   {
    "duration": 13,
    "start_time": "2022-10-10T17:44:55.702Z"
   },
   {
    "duration": 3,
    "start_time": "2022-10-10T17:44:55.722Z"
   }
  ],
  "kernelspec": {
   "display_name": "Python 3 (ipykernel)",
   "language": "python",
   "name": "python3"
  },
  "language_info": {
   "codemirror_mode": {
    "name": "ipython",
    "version": 3
   },
   "file_extension": ".py",
   "mimetype": "text/x-python",
   "name": "python",
   "nbconvert_exporter": "python",
   "pygments_lexer": "ipython3",
   "version": "3.9.12"
  },
  "toc": {
   "base_numbering": 1,
   "nav_menu": {},
   "number_sections": true,
   "sideBar": true,
   "skip_h1_title": true,
   "title_cell": "Table of Contents",
   "title_sidebar": "Contents",
   "toc_cell": false,
   "toc_position": {},
   "toc_section_display": true,
   "toc_window_display": false
  }
 },
 "nbformat": 4,
 "nbformat_minor": 2
}
